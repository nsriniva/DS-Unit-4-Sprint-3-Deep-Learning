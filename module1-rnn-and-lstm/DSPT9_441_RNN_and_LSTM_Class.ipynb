{
 "cells": [
  {
   "cell_type": "markdown",
   "metadata": {
    "id": "Ldr0HZ193GKb"
   },
   "source": [
    "Lambda School Data Science\n",
    "\n",
    "*Unit 4, Sprint 3, Module 1*\n",
    "\n",
    "---\n"
   ]
  },
  {
   "cell_type": "markdown",
   "metadata": {
    "id": "0wQErF1oA2pV"
   },
   "source": [
    "# Recurrent Neural Networks (RNNs) and Long Short Term Memory (LSTM) (Prep)\n",
    "\n",
    "<img src=\"https://media.giphy.com/media/l2JJu8U8SoHhQEnoQ/giphy.gif\" width=400 height=300>\n",
    "<br></br>\n",
    "<br></br>"
   ]
  },
  {
   "cell_type": "markdown",
   "metadata": {
    "id": "LeGiAg-VA2pW"
   },
   "source": [
    "## Learning Objectives\n",
    "- <a href=\"#p1\">Part 1: </a>Describe Neural Networks used for modeling sequences\n",
    "- <a href=\"#p2\">Part 2: </a>Apply a LSTM to a text generation problem using Keras"
   ]
  },
  {
   "cell_type": "markdown",
   "metadata": {
    "id": "_IizNKWLomoA"
   },
   "source": [
    "## Overview\n",
    "\n",
    "> \"Yesterday's just a memory - tomorrow is never what it's supposed to be.\" -- Bob Dylan\n",
    "\n",
    "Wish you could save [Time In A Bottle](https://www.youtube.com/watch?v=AnWWj6xOleY)? With statistics you can do the next best thing - understand how data varies over time (or any sequential order), and use the order/time dimension predictively.\n",
    "\n",
    "A sequence is just any enumerated collection - order counts, and repetition is allowed. Python lists are a good elemental example - `[1, 2, 2, -1]` is a valid list, and is different from `[1, 2, -1, 2]`. The data structures we tend to use (e.g. NumPy arrays) are often built on this fundamental structure.\n",
    "\n",
    "A time series is data where you have not just the order but some actual continuous marker for where they lie \"in time\" - this could be a date, a timestamp, [Unix time](https://en.wikipedia.org/wiki/Unix_time), or something else. All time series are also sequences, and for some techniques you may just consider their order and not \"how far apart\" the entries are (if you have particularly consistent data collected at regular intervals it may not matter)."
   ]
  },
  {
   "cell_type": "markdown",
   "metadata": {
    "id": "L1-VONbrA2pX"
   },
   "source": [
    "\n",
    "## Introduction to Sequencial Data\n",
    "\n",
    "Before we dive into the inner workings of an LSTM model, let's try to understand and appreciate the recusive relationships of numbers in both pure mathematics and in the physical reality in which we find ourselves embedded. \n",
    "\n",
    "\n",
    "As usually we take attempt to understand a concept from at least 3 different perspectives:\n",
    "- Algebraic\n",
    "- Geometric\n",
    "- Coding an example\n",
    "\n",
    "\n",
    "A [**recurrence relation**](https://en.wikipedia.org/wiki/Recurrence_relation) in math is an equation that uses recursion to define a sequence of numbers - a famous example is the Fibonacci numbers.\n",
    "\n",
    "Here is the algorithm for generating the numbers in the Fibonacci sequence: \n",
    "\n",
    "$$F_n = F_{n-1} + F_{n-2}$$\n",
    "\n",
    "You need a base case $F_0=1, F_1=1$ (i.e. a starting point) to get the sequence started and then from then on our the sequence is self-generating. \n",
    "\n",
    "So this means that we can start generating our sequence: \n",
    "\n",
    "$$F_0=1,~~  F_1=1 $$\n",
    "\n",
    "$$F_2 = F_{1} + F_{0} ~=~ 1 + 1 ~=~ 2$$\n",
    "\n",
    "Then\n",
    "\n",
    "$$F_3 = F_{2} + F_{1} ~=~ 2 + 1 ~=~ 3$$\n",
    "\n",
    "Then \n",
    "\n",
    "$$F_4 = F_{3} + F_{2} ~=~ 3 + 2 ~=~ 5$$\n",
    "\n",
    "Then \n",
    "\n",
    "$$F_5 = F_{4} + F_{3} ~=~ 5 + 3 ~=~ 8$$\n",
    "\n",
    "I hope you get the idea. \n",
    "\n",
    "Before we we code up this sequence, let's appreciate how important and ubiquitous it is in nature. \n",
    "\n",
    "\n",
    "<img src=\"http://www.davidbeahm.com/wp-content/uploads/2011/11/fibonacci-1024x637.jpg\" width=480 height=356>\n",
    "\n",
    "<img src=\"https://i.pinimg.com/originals/f2/cb/34/f2cb3452dd774bab87bbee2b8a77d4bb.png\" width=480 height=356>\n",
    "\n",
    "<img src=\"https://i.pinimg.com/originals/32/d7/47/32d747bea24f4756dc4c5ffe61b36efd.jpg\" width=240 height=300>\n",
    "\n",
    "<img src=\"https://f4.bcbits.com/img/a3628582449_10.jpg\" width=300 height=360>\n",
    "\n",
    "[Golden Ratio and Fibonacci Sequence](https://math.libretexts.org/Courses/College_of_the_Canyons/Math_100%3A_Liberal_Arts_Mathematics_(Gavilan_and_Radtke)/07%3A_Mathematics_and_the_Arts/7.02%3A_The_Golden_Ratio_and_Fibonacci_Sequence)\n",
    "\n",
    "**Take Away:** \n",
    "- Recursive sequences are located everywhere in life - but we need to know what we're looking for and where to look for it. \n",
    "- Simply try to develop an appreciation for the connection between mathematics and all of physical reality. \n"
   ]
  },
  {
   "cell_type": "markdown",
   "metadata": {
    "id": "huFnN2NBIV_k"
   },
   "source": [
    "## Code up the Fibonacci Sequence (Self Learning)\n",
    "Again, here is the algorithm for the Fibonacci numbers.  \n",
    "\n",
    "\n",
    "$$F_n = F_{n-1} + F_{n-2}$$\n",
    "\n",
    "\n",
    "You need a base case to get your sequence started. This time let  $F_0=0 ~\\text{and}~ F_1=1$. "
   ]
  },
  {
   "cell_type": "code",
   "execution_count": null,
   "metadata": {
    "colab": {
     "base_uri": "https://localhost:8080/"
    },
    "executionInfo": {
     "elapsed": 461,
     "status": "ok",
     "timestamp": 1617747391833,
     "user": {
      "displayName": "Brian Hu",
      "photoUrl": "https://lh3.googleusercontent.com/a-/AOh14Gg9C2hp-ML87Vme0BJw6zcKYZK-PtGb0Cpg1J1S=s64",
      "userId": "16141489273393480079"
     },
     "user_tz": 300
    },
    "id": "Vgdl7-SjIYAL",
    "outputId": "7195c8fe-f957-41c7-8511-f00794d09aa2"
   },
   "outputs": [
    {
     "data": {
      "text/plain": [
       "21"
      ]
     },
     "execution_count": 1,
     "metadata": {
      "tags": []
     },
     "output_type": "execute_result"
    }
   ],
   "source": [
    "def fibo(n):\n",
    "    \"\"\"\n",
    "    Calculate and return the next number in the Fibonacci sequence\n",
    "    \n",
    "    Input\n",
    "    -----\n",
    "    n: int or float\n",
    "        The nth number in the sequence (think of it as an index for a list)\n",
    "        \n",
    "    Return\n",
    "    ------\n",
    "    F_n: the next number in the sequence generated from the previous two numbers in the sequence \n",
    "    \"\"\"\n",
    "    \n",
    "    if n <= 1:\n",
    "        # if n = 0, then return 0 \n",
    "        return n\n",
    "    else:\n",
    "        # this is the recursive part \n",
    "        # notice how the function is a function of itself!\n",
    "        #  F_n =       F_n-1 + F_n-2\n",
    "        return(fibo(n-1) + fibo(n-2))\n",
    "\n",
    "# generate a Fibonacci Sequence\n",
    "fibo(8)"
   ]
  },
  {
   "cell_type": "markdown",
   "metadata": {
    "id": "1n7judEaIgEk"
   },
   "source": [
    "**Take Away:** \n",
    "\n",
    "Recursive algorithms have as input their previous output. In order words, the output at time step `t - 1`, becomes in the input in the following time step `t`. This is the key idea of that you should observe. Because it is this recursive behavior that is new to how we will think about neural networks, specifically the LSTM model. "
   ]
  },
  {
   "cell_type": "markdown",
   "metadata": {
    "id": "44QZgrPUe3-Y"
   },
   "source": [
    "# Neural Networks for Sequences (Learn)"
   ]
  },
  {
   "cell_type": "markdown",
   "metadata": {
    "id": "k9EDlNs5I2tf"
   },
   "source": [
    "-----\n",
    "\n",
    "## Introduction to Recursive Neural Networks (RNNs) \n",
    "\n",
    "\n",
    "The nice thing about spending time to understand the Fibonacci Sequence is that we can then `borrow the intuition` that we picked up to help us understand how the LSTM works. \n",
    "\n",
    "Different Recursive Neural Networks (RNNs) have this recursive loop in their architecture. The ML research community first created the following RNN model using the standard Fully-Connected Forward Feeding (FCFF) model: \n",
    "\n",
    "![Recurrent neural network](https://upload.wikimedia.org/wikipedia/commons/b/b5/Recurrent_neural_network_unfold.svg)\n",
    "\n",
    "`This type of RNN had severe limitations!` \n",
    "\n",
    "- It didn't have long-term memory capacity to learn long input sequences \n",
    "- It suffered from the [Vanishing Gradient Problem](https://en.wikipedia.org/wiki/Vanishing_gradient_problem).\n",
    "\n",
    "Example:  \n",
    "**He** doesn't have very much confidence in **himself**  \n",
    "**She** doesn't have very much confidence in **herself**  \n",
    "\n",
    " \n",
    "   \n",
    "In response to these limitations, the ML research community created the LSTM model, using the following architecture:\n",
    "\n",
    "![Long short-term memory unit](https://upload.wikimedia.org/wikipedia/commons/thumb/6/63/Long_Short-Term_Memory.svg/1024px-Long_Short-Term_Memory.svg.png)\n",
    "\n",
    "Wow! Ok! There's a lot going on here, isn't there? Well, don't worry, we are going to break this model down bit-by-bit so we can understand what is happening. \n"
   ]
  },
  {
   "cell_type": "markdown",
   "metadata": {
    "id": "XH-VZ0QvJGDH"
   },
   "source": [
    "_____\n",
    "\n",
    "\n",
    "## Theory of LSTM (Good to know)\n",
    "\n",
    "One of the simplist and clearest explanations of the LSTM model can be found [**here!**](https://colah.github.io/posts/2015-08-Understanding-LSTMs/) - a beautifully clear and concise explaination the model's archtecture and the mathematics. This link will serve as our main resouce for understanding how LSTMs work. \n",
    "\n",
    "Below are the equations for each of the gates that are explained in the article. \n",
    "\n",
    "Although, you will not be held responsible for the equations in any quiz, module assignment, or Sprint Challenge - it is still instructive to be exposed to them at least once.\n",
    "\n",
    "First thing to notice is that each gate equation (not the cell states) has the form of a perceptron. \n",
    "\n",
    "`Remember the perceptron?` It's the fundamental building block of neural networks - it's not going away! \n",
    "\n",
    "Once you understand that, it will hopefully become gradually clear that each gate is a perceptron with a different job to do. \n",
    "\n",
    "That's it. \n",
    "\n",
    "It's just 4 perceptrons, each with a different job to do. \n",
    "\n",
    "Fortunately, you already know about perceptrons (you built one from scratch in `Sprint 2 Module 1`). \n",
    "\n",
    "____\n",
    "\n",
    "### Gates in More Detail\n",
    "\n",
    "#### Forget Gate\n",
    "This neuron's job is to use the current input to learn what information the cell state should forget regarding long-term dependencies. \n",
    "\n",
    "\n",
    "$$f_t = \\sigma(W_f \\cdot [h_{t-1},x_t]~+~b_f)$$\n",
    "\n",
    "#### Input Gate\n",
    "This neuron's job is to use the current input to learn what new information to include in the cell state. \n",
    "\n",
    "\n",
    "$$i_t = \\sigma(W_i \\cdot [h_{t-1},x_t]~+~b_i)$$\n",
    "\n",
    "#### Candidate Cell State \n",
    "This neuron's job is to use the current input to create a candidate cell state.\n",
    "\n",
    "This new candidate cell state will be used to update the model's final cell state.\n",
    "\n",
    "$$\\tilde{C}_t = \\text{tanh}(W_C \\cdot [h_{t-1},x_t]~+~b_C)$$\n",
    "\n",
    "#### New Cell State\n",
    "This is where the candidate and old cell state are combined to create a new cell state.\n",
    "\n",
    "This is where output from the forget gate $f_t$ is used to scaled the old cell state\n",
    "\n",
    "- If $f_t$'s value is closer to 0.0, then less information from the previous cell state is retained.\n",
    "- If $f_t$'s value is closer to 1.0, then more information from the previous cell state is retained. \n",
    "\n",
    "\n",
    "This is also where the output of the input gate $i_t$ is used to scaled the candidate cell state. \n",
    "- If $i_t$'s value is closer to 0.0, then less information from the candidate cell state is retained\n",
    "- If $i_t$'s value is closer to 1.0, then more information from the candidate cell state is retained. \n",
    "\n",
    "Finally, you combine the two scaled cell states to form the new cell state of the model. \n",
    "\n",
    "It is $C_t$ that will be passed into the next training step and used by the output to make a final prediction. \n",
    "\n",
    "$$C_t = f_t*C_{t-1} + i_t*\\tilde{C}_t$$\n",
    "\n",
    "#### Output Gate\n",
    "This is where the actual output of the model is calcuated. \n",
    "\n",
    "The article denotes the model's pre-scaled output as $o_t$ and the scaled output as $h_t$. To be clear, it is $h_t$ that ultimately gets outputed as the model's final prediction. \n",
    "\n",
    "We are familiar with the notation $y$ to denote a model's prediction instead of using $h$. But they both mean the same thing - the model's final prediction. \n",
    "\n",
    "This neuron's job is to take the current input and make a prediction. \n",
    "\n",
    "$$o_t = \\sigma(W_o \\cdot [h_{t-1},x_t]~+~b_o)$$\n",
    "\n",
    "Next, the cell state is used to inform the final prediction. \n",
    "\n",
    "Recall that $o_t$ is output from a sigmoid activation function, so it's value is somewhere between 0 and 1. \n",
    "\n",
    "Which means that it is being used to scale $\\text{tanh}(C_t)$ which contains the current cell state. \n",
    "\n",
    "Recall the tanh curve and you'll see that tanh is scaling $C_t$ so that it's value lies between -1 and 1; this makes it possible to have positive and negative values for the model's output. Sigmoids don't allow for the posibility of negative values, but tanh does. \n",
    "\n",
    "$$h_t = o_t*\\text{tanh}(C_t)$$\n",
    "\n"
   ]
  },
  {
   "cell_type": "markdown",
   "metadata": {
    "id": "dEXF2fWiJKLD"
   },
   "source": [
    "_________\n",
    "\n",
    "### Today's Application of LSTMs\n",
    "\n",
    "So why are these cool? \n",
    "\n",
    "One particularly compelling application is actually not time series but language modeling - language is inherently ordered data (letters/words go one after another, and the order *matters*). [The Unreasonable Effectiveness of Recurrent Neural Networks](https://karpathy.github.io/2015/05/21/rnn-effectiveness/) is a famous and worth reading blog post on this topic.\n",
    "\n",
    "For our purposes, let's use TensorFlow and Keras to train RNNs with natural language. \n",
    "\n",
    "Resources:\n",
    "- https://github.com/keras-team/keras/blob/master/examples/imdb_lstm.py\n",
    "- https://keras.io/layers/recurrent/#lstm\n",
    "- http://adventuresinmachinelearning.com/keras-lstm-tutorial/\n",
    "\n",
    "Note that `tensorflow.contrib` [also has an implementation of RNN/LSTM](https://www.tensorflow.org/tutorials/text/text_generation)."
   ]
  },
  {
   "cell_type": "markdown",
   "metadata": {
    "id": "eWrQllf8WEd-"
   },
   "source": [
    "## Follow Along\n",
    "\n",
    "Sequences come in many shapes and forms from stock prices to text. We'll focus on text, because modeling text as a sequence is a strength of Neural Networks. Let's start with a simple classification task using a TensorFlow tutorial. "
   ]
  },
  {
   "cell_type": "markdown",
   "metadata": {
    "id": "gN-byQheA2pY"
   },
   "source": [
    "### RNN/LSTM Sentiment Classification with Keras"
   ]
  },
  {
   "cell_type": "code",
   "execution_count": null,
   "metadata": {
    "id": "kpaRXVyix4XB"
   },
   "outputs": [],
   "source": [
    "import numpy as np\n",
    "import random\n",
    "import sys\n",
    "import os\n",
    "import pandas as pd"
   ]
  },
  {
   "cell_type": "code",
   "execution_count": null,
   "metadata": {
    "colab": {
     "base_uri": "https://localhost:8080/"
    },
    "executionInfo": {
     "elapsed": 6806,
     "status": "ok",
     "timestamp": 1617747398192,
     "user": {
      "displayName": "Brian Hu",
      "photoUrl": "https://lh3.googleusercontent.com/a-/AOh14Gg9C2hp-ML87Vme0BJw6zcKYZK-PtGb0Cpg1J1S=s64",
      "userId": "16141489273393480079"
     },
     "user_tz": 300
    },
    "id": "Ti23G0gRe3kr",
    "outputId": "2e372ec2-f425-4426-adab-ed5511d22178"
   },
   "outputs": [
    {
     "name": "stdout",
     "output_type": "stream",
     "text": [
      "Loading data...\n"
     ]
    },
    {
     "name": "stderr",
     "output_type": "stream",
     "text": [
      "<string>:6: VisibleDeprecationWarning: Creating an ndarray from ragged nested sequences (which is a list-or-tuple of lists-or-tuples-or ndarrays with different lengths or shapes) is deprecated. If you meant to do this, you must specify 'dtype=object' when creating the ndarray\n",
      "/usr/local/lib/python3.7/dist-packages/tensorflow/python/keras/datasets/imdb.py:159: VisibleDeprecationWarning: Creating an ndarray from ragged nested sequences (which is a list-or-tuple of lists-or-tuples-or ndarrays with different lengths or shapes) is deprecated. If you meant to do this, you must specify 'dtype=object' when creating the ndarray\n",
      "  x_train, y_train = np.array(xs[:idx]), np.array(labels[:idx])\n"
     ]
    },
    {
     "name": "stdout",
     "output_type": "stream",
     "text": [
      "25000 train sequences\n",
      "25000 test sequences\n"
     ]
    },
    {
     "name": "stderr",
     "output_type": "stream",
     "text": [
      "/usr/local/lib/python3.7/dist-packages/tensorflow/python/keras/datasets/imdb.py:160: VisibleDeprecationWarning: Creating an ndarray from ragged nested sequences (which is a list-or-tuple of lists-or-tuples-or ndarrays with different lengths or shapes) is deprecated. If you meant to do this, you must specify 'dtype=object' when creating the ndarray\n",
      "  x_test, y_test = np.array(xs[idx:]), np.array(labels[idx:])\n"
     ]
    }
   ],
   "source": [
    "'''\n",
    "#Trains an LSTM model on the IMDB sentiment classification task.\n",
    "The dataset is actually too small for LSTM to be of any advantage\n",
    "compared to simpler, much faster methods such as TF-IDF + LogReg.\n",
    "**Notes**\n",
    "- RNNs are tricky. Choice of batch size is important,\n",
    "choice of loss and optimizer is critical, etc.\n",
    "Some configurations won't converge.\n",
    "- LSTM loss decrease patterns during training can be quite different\n",
    "from what you see with CNNs/MLPs/etc.\n",
    "'''\n",
    "from __future__ import print_function\n",
    "\n",
    "from tensorflow.keras.preprocessing import sequence\n",
    "from tensorflow.keras.models import Sequential\n",
    "from tensorflow.keras.layers import Dense, Embedding\n",
    "from tensorflow.keras.layers import LSTM\n",
    "from tensorflow.keras.datasets import imdb\n",
    "\n",
    "max_features = 20000\n",
    "# cut texts after this number of words (among top max_features most common words)\n",
    "maxlen = 80\n",
    "batch_size = 32\n",
    "\n",
    "print('Loading data...')\n",
    "(x_train, y_train), (x_test, y_test) = imdb.load_data(num_words=max_features)\n",
    "print(len(x_train), 'train sequences')\n",
    "print(len(x_test), 'test sequences')"
   ]
  },
  {
   "cell_type": "code",
   "execution_count": null,
   "metadata": {
    "colab": {
     "base_uri": "https://localhost:8080/"
    },
    "collapsed": true,
    "executionInfo": {
     "elapsed": 6799,
     "status": "ok",
     "timestamp": 1617747398193,
     "user": {
      "displayName": "Brian Hu",
      "photoUrl": "https://lh3.googleusercontent.com/a-/AOh14Gg9C2hp-ML87Vme0BJw6zcKYZK-PtGb0Cpg1J1S=s64",
      "userId": "16141489273393480079"
     },
     "user_tz": 300
    },
    "id": "wlk_UpvtA2pb",
    "jupyter": {
     "outputs_hidden": true
    },
    "outputId": "58615a0e-3ebe-4d87-d016-b616cf6affea"
   },
   "outputs": [
    {
     "data": {
      "text/plain": [
       "189"
      ]
     },
     "execution_count": 4,
     "metadata": {
      "tags": []
     },
     "output_type": "execute_result"
    }
   ],
   "source": [
    "len(x_train[1])"
   ]
  },
  {
   "cell_type": "code",
   "execution_count": null,
   "metadata": {
    "id": "ImNGmK4jVnVi"
   },
   "outputs": [],
   "source": [
    "def print_text_from_seq(x):\n",
    "    # print('=================================================')\n",
    "    INDEX_FROM=3   # word index offset\n",
    "    word_to_id = imdb.get_word_index()\n",
    "    word_to_id = {k:(v+INDEX_FROM) for k,v in word_to_id.items()}\n",
    "    word_to_id[\"<PAD>\"] = 0\n",
    "    word_to_id[\"<START>\"] = 1\n",
    "    word_to_id[\"<UNK>\"] = 2\n",
    "    word_to_id[\"<UNUSED>\"] = 3\n",
    "\n",
    "    id_to_word = {value:key for key,value in word_to_id.items()}\n",
    "  \n",
    "    print(f'Length = {len(x)}')\n",
    "    print(' '.join(id_to_word[id] for id in x ))\n",
    "    print('=================================================')"
   ]
  },
  {
   "cell_type": "code",
   "execution_count": null,
   "metadata": {
    "colab": {
     "base_uri": "https://localhost:8080/"
    },
    "executionInfo": {
     "elapsed": 7371,
     "status": "ok",
     "timestamp": 1617747398776,
     "user": {
      "displayName": "Brian Hu",
      "photoUrl": "https://lh3.googleusercontent.com/a-/AOh14Gg9C2hp-ML87Vme0BJw6zcKYZK-PtGb0Cpg1J1S=s64",
      "userId": "16141489273393480079"
     },
     "user_tz": 300
    },
    "id": "Ya5oJpUXWk8v",
    "outputId": "5d477a46-1311-4a99-a60a-cf2d264d06ea"
   },
   "outputs": [
    {
     "name": "stdout",
     "output_type": "stream",
     "text": [
      "[1, 14, 22, 16, 43, 530, 973, 1622, 1385, 65, 458, 4468, 66, 3941, 4, 173, 36, 256, 5, 25, 100, 43, 838, 112, 50, 670, 2, 9, 35, 480, 284, 5, 150, 4, 172, 112, 167, 2, 336, 385, 39, 4, 172, 4536, 1111, 17, 546, 38, 13, 447, 4, 192, 50, 16, 6, 147, 2025, 19, 14, 22, 4, 1920, 4613, 469, 4, 22, 71, 87, 12, 16, 43, 530, 38, 76, 15, 13, 1247, 4, 22, 17, 515, 17, 12, 16, 626, 18, 19193, 5, 62, 386, 12, 8, 316, 8, 106, 5, 4, 2223, 5244, 16, 480, 66, 3785, 33, 4, 130, 12, 16, 38, 619, 5, 25, 124, 51, 36, 135, 48, 25, 1415, 33, 6, 22, 12, 215, 28, 77, 52, 5, 14, 407, 16, 82, 10311, 8, 4, 107, 117, 5952, 15, 256, 4, 2, 7, 3766, 5, 723, 36, 71, 43, 530, 476, 26, 400, 317, 46, 7, 4, 12118, 1029, 13, 104, 88, 4, 381, 15, 297, 98, 32, 2071, 56, 26, 141, 6, 194, 7486, 18, 4, 226, 22, 21, 134, 476, 26, 480, 5, 144, 30, 5535, 18, 51, 36, 28, 224, 92, 25, 104, 4, 226, 65, 16, 38, 1334, 88, 12, 16, 283, 5, 16, 4472, 113, 103, 32, 15, 16, 5345, 19, 178, 32]\n",
      "Length = 218\n",
      "<START> this film was just brilliant casting location scenery story direction everyone's really suited the part they played and you could just imagine being there robert <UNK> is an amazing actor and now the same being director <UNK> father came from the same scottish island as myself so i loved the fact there was a real connection with this film the witty remarks throughout the film were great it was just brilliant so much that i bought the film as soon as it was released for retail and would recommend it to everyone to watch and the fly fishing was amazing really cried at the end it was so sad and you know what they say if you cry at a film it must have been good and this definitely was also congratulations to the two little boy's that played the <UNK> of norman and paul they were just brilliant children are often left out of the praising list i think because the stars that play them all grown up are such a big profile for the whole film but these children are amazing and should be praised for what they have done don't you think the whole story was so lovely because it was true and was someone's life after all that was shared with us all\n",
      "=================================================\n",
      "[1, 194, 1153, 194, 8255, 78, 228, 5, 6, 1463, 4369, 5012, 134, 26, 4, 715, 8, 118, 1634, 14, 394, 20, 13, 119, 954, 189, 102, 5, 207, 110, 3103, 21, 14, 69, 188, 8, 30, 23, 7, 4, 249, 126, 93, 4, 114, 9, 2300, 1523, 5, 647, 4, 116, 9, 35, 8163, 4, 229, 9, 340, 1322, 4, 118, 9, 4, 130, 4901, 19, 4, 1002, 5, 89, 29, 952, 46, 37, 4, 455, 9, 45, 43, 38, 1543, 1905, 398, 4, 1649, 26, 6853, 5, 163, 11, 3215, 10156, 4, 1153, 9, 194, 775, 7, 8255, 11596, 349, 2637, 148, 605, 15358, 8003, 15, 123, 125, 68, 2, 6853, 15, 349, 165, 4362, 98, 5, 4, 228, 9, 43, 2, 1157, 15, 299, 120, 5, 120, 174, 11, 220, 175, 136, 50, 9, 4373, 228, 8255, 5, 2, 656, 245, 2350, 5, 4, 9837, 131, 152, 491, 18, 2, 32, 7464, 1212, 14, 9, 6, 371, 78, 22, 625, 64, 1382, 9, 8, 168, 145, 23, 4, 1690, 15, 16, 4, 1355, 5, 28, 6, 52, 154, 462, 33, 89, 78, 285, 16, 145, 95]\n",
      "Length = 189\n",
      "<START> big hair big boobs bad music and a giant safety pin these are the words to best describe this terrible movie i love cheesy horror movies and i've seen hundreds but this had got to be on of the worst ever made the plot is paper thin and ridiculous the acting is an abomination the script is completely laughable the best is the end showdown with the cop and how he worked out who the killer is it's just so damn terribly written the clothes are sickening and funny in equal measures the hair is big lots of boobs bounce men wear those cut tee shirts that show off their <UNK> sickening that men actually wore them and the music is just <UNK> trash that plays over and over again in almost every scene there is trashy music boobs and <UNK> taking away bodies and the gym still doesn't close for <UNK> all joking aside this is a truly bad film whose only charm is to look back on the disaster that was the 80's and have a good old laugh at how bad everything was back then\n",
      "=================================================\n",
      "[1, 14, 47, 8, 30, 31, 7, 4, 249, 108, 7, 4, 5974, 54, 61, 369, 13, 71, 149, 14, 22, 112, 4, 2401, 311, 12, 16, 3711, 33, 75, 43, 1829, 296, 4, 86, 320, 35, 534, 19, 263, 4821, 1301, 4, 1873, 33, 89, 78, 12, 66, 16, 4, 360, 7, 4, 58, 316, 334, 11, 4, 1716, 43, 645, 662, 8, 257, 85, 1200, 42, 1228, 2578, 83, 68, 3912, 15, 36, 165, 1539, 278, 36, 69, 2, 780, 8, 106, 14, 6905, 1338, 18, 6, 22, 12, 215, 28, 610, 40, 6, 87, 326, 23, 2300, 21, 23, 22, 12, 272, 40, 57, 31, 11, 4, 22, 47, 6, 2307, 51, 9, 170, 23, 595, 116, 595, 1352, 13, 191, 79, 638, 89, 2, 14, 9, 8, 106, 607, 624, 35, 534, 6, 227, 7, 129, 113]\n",
      "Length = 141\n",
      "<START> this has to be one of the worst films of the 1990s when my friends i were watching this film being the target audience it was aimed at we just sat watched the first half an hour with our jaws touching the floor at how bad it really was the rest of the time everyone else in the theatre just started talking to each other leaving or generally crying into their popcorn that they actually paid money they had <UNK> working to watch this feeble excuse for a film it must have looked like a great idea on paper but on film it looks like no one in the film has a clue what is going on crap acting crap costumes i can't get across how <UNK> this is to watch save yourself an hour a bit of your life\n",
      "=================================================\n",
      "[1, 4, 18609, 16085, 33, 2804, 4, 2040, 432, 111, 153, 103, 4, 1494, 13, 70, 131, 67, 11, 61, 15305, 744, 35, 3715, 761, 61, 5766, 452, 9214, 4, 985, 7, 2, 59, 166, 4, 105, 216, 1239, 41, 1797, 9, 15, 7, 35, 744, 2413, 31, 8, 4, 687, 23, 4, 2, 7339, 6, 3693, 42, 38, 39, 121, 59, 456, 10, 10, 7, 265, 12, 575, 111, 153, 159, 59, 16, 1447, 21, 25, 586, 482, 39, 4, 96, 59, 716, 12, 4, 172, 65, 9, 579, 11, 6004, 4, 1615, 5, 2, 7, 5168, 17, 13, 7064, 12, 19, 6, 464, 31, 314, 11, 2, 6, 719, 605, 11, 8, 202, 27, 310, 4, 3772, 3501, 8, 2722, 58, 10, 10, 537, 2116, 180, 40, 14, 413, 173, 7, 263, 112, 37, 152, 377, 4, 537, 263, 846, 579, 178, 54, 75, 71, 476, 36, 413, 263, 2504, 182, 5, 17, 75, 2306, 922, 36, 279, 131, 2895, 17, 2867, 42, 17, 35, 921, 18435, 192, 5, 1219, 3890, 19, 2, 217, 4122, 1710, 537, 2, 1236, 5, 736, 10, 10, 61, 403, 9, 2, 40, 61, 4494, 5, 27, 4494, 159, 90, 263, 2311, 4319, 309, 8, 178, 5, 82, 4319, 4, 65, 15, 9225, 145, 143, 5122, 12, 7039, 537, 746, 537, 537, 15, 7979, 4, 18665, 594, 7, 5168, 94, 9096, 3987, 15242, 11, 2, 4, 538, 7, 1795, 246, 2, 9, 10161, 11, 635, 14, 9, 51, 408, 12, 94, 318, 1382, 12, 47, 6, 2683, 936, 5, 6307, 10197, 19, 49, 7, 4, 1885, 13699, 1118, 25, 80, 126, 842, 10, 10, 2, 18223, 4726, 27, 4494, 11, 1550, 3633, 159, 27, 341, 29, 2733, 19, 4185, 173, 7, 90, 16376, 8, 30, 11, 4, 1784, 86, 1117, 8, 3261, 46, 11, 2, 21, 29, 9, 2841, 23, 4, 1010, 2, 793, 6, 13699, 1386, 1830, 10, 10, 246, 50, 9, 6, 2750, 1944, 746, 90, 29, 16376, 8, 124, 4, 882, 4, 882, 496, 27, 2, 2213, 537, 121, 127, 1219, 130, 5, 29, 494, 8, 124, 4, 882, 496, 4, 341, 7, 27, 846, 10, 10, 29, 9, 1906, 8, 97, 6, 236, 11120, 1311, 8, 4, 2, 7, 31, 7, 2, 91, 2, 3987, 70, 4, 882, 30, 579, 42, 9, 12, 32, 11, 537, 10, 10, 11, 14, 65, 44, 537, 75, 11876, 1775, 3353, 12716, 1846, 4, 11286, 7, 154, 5, 4, 518, 53, 13243, 11286, 7, 3211, 882, 11, 399, 38, 75, 257, 3807, 19, 18223, 17, 29, 456, 4, 65, 7, 27, 205, 113, 10, 10, 2, 4, 2, 10359, 9, 242, 4, 91, 1202, 11377, 5, 2070, 307, 22, 7, 5168, 126, 93, 40, 18223, 13, 188, 1076, 3222, 19, 4, 13465, 7, 2348, 537, 23, 53, 537, 21, 82, 40, 18223, 13, 2, 14, 280, 13, 219, 4, 2, 431, 758, 859, 4, 953, 1052, 12283, 7, 5991, 5, 94, 40, 25, 238, 60, 2, 4, 15812, 804, 2, 7, 4, 9941, 132, 8, 67, 6, 22, 15, 9, 283, 8, 5168, 14, 31, 9, 242, 955, 48, 25, 279, 2, 23, 12, 1685, 195, 25, 238, 60, 796, 13713, 4, 671, 7, 2804, 5, 4, 559, 154, 888, 7, 726, 50, 26, 49, 7008, 15, 566, 30, 579, 21, 64, 2574]\n",
      "Length = 550\n",
      "<START> the scots excel at storytelling the traditional sort many years after the event i can still see in my mind's eye an elderly lady my friend's mother retelling the battle of <UNK> she makes the characters come alive her passion is that of an eye witness one to the events on the <UNK> heath a mile or so from where she lives br br of course it happened many years before she was born but you wouldn't guess from the way she tells it the same story is told in bars the length and <UNK> of scotland as i discussed it with a friend one night in <UNK> a local cut in to give his version the discussion continued to closing time br br stories passed down like this become part of our being who doesn't remember the stories our parents told us when we were children they become our invisible world and as we grow older they maybe still serve as inspiration or as an emotional reservoir fact and fiction blend with <UNK> role models warning stories <UNK> magic and mystery br br my name is <UNK> like my grandfather and his grandfather before him our protagonist introduces himself to us and also introduces the story that stretches back through generations it produces stories within stories stories that evoke the impenetrable wonder of scotland its rugged mountains shrouded in <UNK> the stuff of legend yet <UNK> is rooted in reality this is what gives it its special charm it has a rough beauty and authenticity tempered with some of the finest gaelic singing you will ever hear br br <UNK> angus visits his grandfather in hospital shortly before his death he burns with frustration part of him yearns to be in the twenty first century to hang out in <UNK> but he is raised on the western <UNK> among a gaelic speaking community br br yet there is a deeper conflict within him he yearns to know the truth the truth behind his <UNK> ancient stories where does fiction end and he wants to know the truth behind the death of his parents br br he is pulled to make a last fateful journey to the <UNK> of one of <UNK> most <UNK> mountains can the truth be told or is it all in stories br br in this story about stories we revisit bloody battles poisoned lovers the folklore of old and the sometimes more treacherous folklore of accepted truth in doing so we each connect with angus as he lives the story of his own life br br <UNK> the <UNK> pinnacle is probably the most honest unpretentious and genuinely beautiful film of scotland ever made like angus i got slightly annoyed with the pretext of hanging stories on more stories but also like angus i <UNK> this once i saw the <UNK> picture ' forget the box office pastiche of braveheart and its like you might even <UNK> the justly famous <UNK> of the wicker man to see a film that is true to scotland this one is probably unique if you maybe <UNK> on it deeply enough you might even re evaluate the power of storytelling and the age old question of whether there are some truths that cannot be told but only experienced\n",
      "=================================================\n",
      "[1, 249, 1323, 7, 61, 113, 10, 10, 13, 1637, 14, 20, 56, 33, 2401, 18, 457, 88, 13, 2626, 1400, 45, 3171, 13, 70, 79, 49, 706, 919, 13, 16, 355, 340, 355, 1696, 96, 143, 4, 22, 32, 289, 7, 61, 369, 71, 2359, 5, 13, 16, 131, 2073, 249, 114, 249, 229, 249, 20, 13, 28, 126, 110, 13, 473, 8, 569, 61, 419, 56, 429, 6, 1513, 18, 35, 534, 95, 474, 570, 5, 25, 124, 138, 88, 12, 421, 1543, 52, 725, 6397, 61, 419, 11, 13, 1571, 15, 1543, 20, 11, 4, 2, 5, 296, 12, 3524, 5, 15, 421, 128, 74, 233, 334, 207, 126, 224, 12, 562, 298, 2167, 1272, 7, 2601, 5, 516, 988, 43, 8, 79, 120, 15, 595, 13, 784, 25, 3171, 18, 165, 170, 143, 19, 14, 5, 7224, 6, 226, 251, 7, 61, 113]\n",
      "Length = 147\n",
      "<START> worst mistake of my life br br i picked this movie up at target for 5 because i figured hey it's sandler i can get some cheap laughs i was wrong completely wrong mid way through the film all three of my friends were asleep and i was still suffering worst plot worst script worst movie i have ever seen i wanted to hit my head up against a wall for an hour then i'd stop and you know why because it felt damn good upon bashing my head in i stuck that damn movie in the <UNK> and watched it burn and that felt better than anything else i've ever done it took american psycho army of darkness and kill bill just to get over that crap i hate you sandler for actually going through with this and ruining a whole day of my life\n",
      "=================================================\n",
      "[1, 778, 128, 74, 12, 630, 163, 15, 4, 1766, 7982, 1051, 2, 32, 85, 156, 45, 40, 148, 139, 121, 664, 665, 10, 10, 1361, 173, 4, 749, 2, 16, 3804, 8, 4, 226, 65, 12, 43, 127, 24, 15344, 10, 10]\n",
      "Length = 43\n",
      "<START> begins better than it ends funny that the russian submarine crew <UNK> all other actors it's like those scenes where documentary shots br br spoiler part the message <UNK> was contrary to the whole story it just does not mesh br br\n",
      "=================================================\n"
     ]
    }
   ],
   "source": [
    "for i in range(0, 6):\n",
    "    print(x_train[i])\n",
    "    print_text_from_seq(x_train[i])"
   ]
  },
  {
   "cell_type": "code",
   "execution_count": null,
   "metadata": {
    "colab": {
     "base_uri": "https://localhost:8080/"
    },
    "executionInfo": {
     "elapsed": 8124,
     "status": "ok",
     "timestamp": 1617747399536,
     "user": {
      "displayName": "Brian Hu",
      "photoUrl": "https://lh3.googleusercontent.com/a-/AOh14Gg9C2hp-ML87Vme0BJw6zcKYZK-PtGb0Cpg1J1S=s64",
      "userId": "16141489273393480079"
     },
     "user_tz": 300
    },
    "id": "8XT51BWLA2pd",
    "outputId": "5e9b47f8-bd0f-473d-db1c-50512599050e"
   },
   "outputs": [
    {
     "name": "stdout",
     "output_type": "stream",
     "text": [
      "Pad Sequences (samples x time)\n",
      "x_train shape:  (25000, 80)\n",
      "x_test shape:  (25000, 80)\n"
     ]
    }
   ],
   "source": [
    "print('Pad Sequences (samples x time)')\n",
    "x_train = sequence.pad_sequences(x_train, maxlen=maxlen) # https://www.tensorflow.org/api_docs/python/tf/keras/preprocessing/sequence/pad_sequences\n",
    "x_test = sequence.pad_sequences(x_test, maxlen=maxlen)\n",
    "print('x_train shape: ', x_train.shape)\n",
    "print('x_test shape: ', x_test.shape)"
   ]
  },
  {
   "cell_type": "code",
   "execution_count": null,
   "metadata": {
    "colab": {
     "base_uri": "https://localhost:8080/"
    },
    "executionInfo": {
     "elapsed": 8117,
     "status": "ok",
     "timestamp": 1617747399537,
     "user": {
      "displayName": "Brian Hu",
      "photoUrl": "https://lh3.googleusercontent.com/a-/AOh14Gg9C2hp-ML87Vme0BJw6zcKYZK-PtGb0Cpg1J1S=s64",
      "userId": "16141489273393480079"
     },
     "user_tz": 300
    },
    "id": "dl4yX1s5A2pf",
    "outputId": "eba27b54-e215-4bcc-ff39-25de663d4b27"
   },
   "outputs": [
    {
     "data": {
      "text/plain": [
       "array([   15,   256,     4,     2,     7,  3766,     5,   723,    36,\n",
       "          71,    43,   530,   476,    26,   400,   317,    46,     7,\n",
       "           4, 12118,  1029,    13,   104,    88,     4,   381,    15,\n",
       "         297,    98,    32,  2071,    56,    26,   141,     6,   194,\n",
       "        7486,    18,     4,   226,    22,    21,   134,   476,    26,\n",
       "         480,     5,   144,    30,  5535,    18,    51,    36,    28,\n",
       "         224,    92,    25,   104,     4,   226,    65,    16,    38,\n",
       "        1334,    88,    12,    16,   283,     5,    16,  4472,   113,\n",
       "         103,    32,    15,    16,  5345,    19,   178,    32],\n",
       "      dtype=int32)"
      ]
     },
     "execution_count": 8,
     "metadata": {
      "tags": []
     },
     "output_type": "execute_result"
    }
   ],
   "source": [
    "x_train[0]"
   ]
  },
  {
   "cell_type": "code",
   "execution_count": null,
   "metadata": {
    "colab": {
     "base_uri": "https://localhost:8080/"
    },
    "executionInfo": {
     "elapsed": 8300,
     "status": "ok",
     "timestamp": 1617747399728,
     "user": {
      "displayName": "Brian Hu",
      "photoUrl": "https://lh3.googleusercontent.com/a-/AOh14Gg9C2hp-ML87Vme0BJw6zcKYZK-PtGb0Cpg1J1S=s64",
      "userId": "16141489273393480079"
     },
     "user_tz": 300
    },
    "id": "sfuC3W9PXS3s",
    "outputId": "46a2185e-48c2-49a0-fefb-7780ddd773a3"
   },
   "outputs": [
    {
     "name": "stdout",
     "output_type": "stream",
     "text": [
      "Length = 80\n",
      "that played the <UNK> of norman and paul they were just brilliant children are often left out of the praising list i think because the stars that play them all grown up are such a big profile for the whole film but these children are amazing and should be praised for what they have done don't you think the whole story was so lovely because it was true and was someone's life after all that was shared with us all\n",
      "=================================================\n"
     ]
    }
   ],
   "source": [
    "print_text_from_seq(x_train[0])"
   ]
  },
  {
   "cell_type": "code",
   "execution_count": null,
   "metadata": {
    "colab": {
     "base_uri": "https://localhost:8080/"
    },
    "executionInfo": {
     "elapsed": 8295,
     "status": "ok",
     "timestamp": 1617747399730,
     "user": {
      "displayName": "Brian Hu",
      "photoUrl": "https://lh3.googleusercontent.com/a-/AOh14Gg9C2hp-ML87Vme0BJw6zcKYZK-PtGb0Cpg1J1S=s64",
      "userId": "16141489273393480079"
     },
     "user_tz": 300
    },
    "id": "rgiaLW9UXiww",
    "outputId": "cd6ff191-743c-4b53-89cd-b378e6c3da73"
   },
   "outputs": [
    {
     "data": {
      "text/plain": [
       "0.5"
      ]
     },
     "execution_count": 10,
     "metadata": {
      "tags": []
     },
     "output_type": "execute_result"
    }
   ],
   "source": [
    "# the review labels are balanced: 50% are positive and 50% are negivate\n",
    "y_train.sum()/len(y_train)"
   ]
  },
  {
   "cell_type": "code",
   "execution_count": null,
   "metadata": {
    "colab": {
     "base_uri": "https://localhost:8080/"
    },
    "executionInfo": {
     "elapsed": 8867,
     "status": "ok",
     "timestamp": 1617747400309,
     "user": {
      "displayName": "Brian Hu",
      "photoUrl": "https://lh3.googleusercontent.com/a-/AOh14Gg9C2hp-ML87Vme0BJw6zcKYZK-PtGb0Cpg1J1S=s64",
      "userId": "16141489273393480079"
     },
     "user_tz": 300
    },
    "id": "tJNMAb-KX4KE",
    "outputId": "ea513f19-69cb-4084-c5e8-1d4237a483df"
   },
   "outputs": [
    {
     "name": "stdout",
     "output_type": "stream",
     "text": [
      "Model: \"sequential\"\n",
      "_________________________________________________________________\n",
      "Layer (type)                 Output Shape              Param #   \n",
      "=================================================================\n",
      "embedding (Embedding)        (None, None, 128)         2560000   \n",
      "_________________________________________________________________\n",
      "dropout (Dropout)            (None, None, 128)         0         \n",
      "_________________________________________________________________\n",
      "dense (Dense)                (None, None, 50)          6450      \n",
      "_________________________________________________________________\n",
      "dropout_1 (Dropout)          (None, None, 50)          0         \n",
      "_________________________________________________________________\n",
      "dense_1 (Dense)              (None, None, 50)          2550      \n",
      "_________________________________________________________________\n",
      "dropout_2 (Dropout)          (None, None, 50)          0         \n",
      "_________________________________________________________________\n",
      "dense_2 (Dense)              (None, None, 1)           51        \n",
      "=================================================================\n",
      "Total params: 2,569,051\n",
      "Trainable params: 2,569,051\n",
      "Non-trainable params: 0\n",
      "_________________________________________________________________\n"
     ]
    }
   ],
   "source": [
    "from tensorflow.keras.layers import Dropout\n",
    "\n",
    "model_fc = Sequential()\n",
    "model_fc.add(Embedding(max_features, 128))  \n",
    "model_fc.add(Dropout(0.1))\n",
    "model_fc.add(Dense(50, activation='relu'))\n",
    "model_fc.add(Dropout(0.1))\n",
    "model_fc.add(Dense(50, activation='relu'))\n",
    "model_fc.add(Dropout(0.1))\n",
    "model_fc.add(Dense(1, activation='sigmoid'))\n",
    "model_fc.compile(loss='binary_crossentropy',\n",
    "              optimizer='adam', \n",
    "              metrics=['accuracy'])\n",
    "model_fc.summary()"
   ]
  },
  {
   "cell_type": "code",
   "execution_count": null,
   "metadata": {
    "colab": {
     "base_uri": "https://localhost:8080/"
    },
    "executionInfo": {
     "elapsed": 443820,
     "status": "ok",
     "timestamp": 1617747835269,
     "user": {
      "displayName": "Brian Hu",
      "photoUrl": "https://lh3.googleusercontent.com/a-/AOh14Gg9C2hp-ML87Vme0BJw6zcKYZK-PtGb0Cpg1J1S=s64",
      "userId": "16141489273393480079"
     },
     "user_tz": 300
    },
    "id": "qGC6xCl2X4Z0",
    "outputId": "787e5d4a-3957-4af9-b84a-c09c0c8c9aa9"
   },
   "outputs": [
    {
     "name": "stdout",
     "output_type": "stream",
     "text": [
      "Epoch 1/20\n",
      "782/782 [==============================] - 23s 28ms/step - loss: 0.6852 - accuracy: 0.5408 - val_loss: 0.6792 - val_accuracy: 0.5548\n",
      "Epoch 2/20\n",
      "782/782 [==============================] - 22s 28ms/step - loss: 0.6735 - accuracy: 0.5659 - val_loss: 0.6830 - val_accuracy: 0.5464\n",
      "Epoch 3/20\n",
      "782/782 [==============================] - 22s 28ms/step - loss: 0.6721 - accuracy: 0.5647 - val_loss: 0.6808 - val_accuracy: 0.5553\n",
      "Epoch 4/20\n",
      "782/782 [==============================] - 21s 27ms/step - loss: 0.6706 - accuracy: 0.5686 - val_loss: 0.6816 - val_accuracy: 0.5555\n",
      "Epoch 5/20\n",
      "782/782 [==============================] - 22s 28ms/step - loss: 0.6704 - accuracy: 0.5673 - val_loss: 0.6815 - val_accuracy: 0.5552\n",
      "Epoch 6/20\n",
      "782/782 [==============================] - 21s 27ms/step - loss: 0.6696 - accuracy: 0.5684 - val_loss: 0.6826 - val_accuracy: 0.5556\n",
      "Epoch 7/20\n",
      "782/782 [==============================] - 21s 27ms/step - loss: 0.6694 - accuracy: 0.5675 - val_loss: 0.6827 - val_accuracy: 0.5558\n",
      "Epoch 8/20\n",
      "782/782 [==============================] - 22s 28ms/step - loss: 0.6692 - accuracy: 0.5692 - val_loss: 0.6826 - val_accuracy: 0.5549\n",
      "Epoch 9/20\n",
      "782/782 [==============================] - 22s 28ms/step - loss: 0.6693 - accuracy: 0.5676 - val_loss: 0.6830 - val_accuracy: 0.5557\n",
      "Epoch 10/20\n",
      "782/782 [==============================] - 22s 28ms/step - loss: 0.6691 - accuracy: 0.5683 - val_loss: 0.6835 - val_accuracy: 0.5559\n",
      "Epoch 11/20\n",
      "782/782 [==============================] - 21s 27ms/step - loss: 0.6690 - accuracy: 0.5691 - val_loss: 0.6834 - val_accuracy: 0.5555\n",
      "Epoch 12/20\n",
      "782/782 [==============================] - 21s 27ms/step - loss: 0.6691 - accuracy: 0.5690 - val_loss: 0.6837 - val_accuracy: 0.5554\n",
      "Epoch 13/20\n",
      "782/782 [==============================] - 22s 28ms/step - loss: 0.6687 - accuracy: 0.5692 - val_loss: 0.6850 - val_accuracy: 0.5556\n",
      "Epoch 14/20\n",
      "782/782 [==============================] - 22s 28ms/step - loss: 0.6687 - accuracy: 0.5686 - val_loss: 0.6853 - val_accuracy: 0.5558\n",
      "Epoch 15/20\n",
      "782/782 [==============================] - 22s 28ms/step - loss: 0.6688 - accuracy: 0.5686 - val_loss: 0.6850 - val_accuracy: 0.5555\n",
      "Epoch 16/20\n",
      "782/782 [==============================] - 22s 28ms/step - loss: 0.6684 - accuracy: 0.5695 - val_loss: 0.6857 - val_accuracy: 0.5537\n",
      "Epoch 17/20\n",
      "782/782 [==============================] - 22s 28ms/step - loss: 0.6686 - accuracy: 0.5685 - val_loss: 0.6854 - val_accuracy: 0.5557\n",
      "Epoch 18/20\n",
      "782/782 [==============================] - 22s 28ms/step - loss: 0.6687 - accuracy: 0.5690 - val_loss: 0.6859 - val_accuracy: 0.5557\n",
      "Epoch 19/20\n",
      "782/782 [==============================] - 21s 27ms/step - loss: 0.6686 - accuracy: 0.5683 - val_loss: 0.6854 - val_accuracy: 0.5557\n",
      "Epoch 20/20\n",
      "782/782 [==============================] - 22s 28ms/step - loss: 0.6683 - accuracy: 0.5695 - val_loss: 0.6861 - val_accuracy: 0.5556\n"
     ]
    }
   ],
   "source": [
    "output_fc = model_fc.fit(x_train, \n",
    "                         y_train, \n",
    "                         batch_size=batch_size, \n",
    "                         epochs=20, \n",
    "                         validation_data=(x_test, y_test))"
   ]
  },
  {
   "cell_type": "code",
   "execution_count": null,
   "metadata": {
    "colab": {
     "base_uri": "https://localhost:8080/",
     "height": 295
    },
    "executionInfo": {
     "elapsed": 443938,
     "status": "ok",
     "timestamp": 1617747835394,
     "user": {
      "displayName": "Brian Hu",
      "photoUrl": "https://lh3.googleusercontent.com/a-/AOh14Gg9C2hp-ML87Vme0BJw6zcKYZK-PtGb0Cpg1J1S=s64",
      "userId": "16141489273393480079"
     },
     "user_tz": 300
    },
    "id": "vu9Ft32IX4hH",
    "outputId": "0bd3adab-914b-4add-e9b2-832d3a377f55"
   },
   "outputs": [
    {
     "data": {
      "image/png": "[encoded data removed]",
      "text/plain": [
       "<Figure size 432x288 with 1 Axes>"
      ]
     },
     "metadata": {
      "needs_background": "light",
      "tags": []
     },
     "output_type": "display_data"
    }
   ],
   "source": [
    "import matplotlib.pyplot as plt\n",
    "\n",
    "# Plot training & validation loss values\n",
    "plt.plot(output_fc.history['loss'])\n",
    "plt.plot(output_fc.history['val_loss'])\n",
    "plt.title('Model (fully-connected) loss')\n",
    "plt.ylabel('Loss')\n",
    "plt.xlabel('Epoch')\n",
    "plt.legend(['Train', 'Valid'], loc='upper left')\n",
    "plt.show();"
   ]
  },
  {
   "cell_type": "code",
   "execution_count": null,
   "metadata": {
    "colab": {
     "base_uri": "https://localhost:8080/",
     "height": 295
    },
    "executionInfo": {
     "elapsed": 444059,
     "status": "ok",
     "timestamp": 1617747835523,
     "user": {
      "displayName": "Brian Hu",
      "photoUrl": "https://lh3.googleusercontent.com/a-/AOh14Gg9C2hp-ML87Vme0BJw6zcKYZK-PtGb0Cpg1J1S=s64",
      "userId": "16141489273393480079"
     },
     "user_tz": 300
    },
    "id": "gdpDoYOayfBq",
    "outputId": "58f5ac2e-fb96-4f86-cd76-ceaaf5ec522b"
   },
   "outputs": [
    {
     "data": {
      "image/png": "[encoded data removed]",
      "text/plain": [
       "<Figure size 432x288 with 1 Axes>"
      ]
     },
     "metadata": {
      "needs_background": "light",
      "tags": []
     },
     "output_type": "display_data"
    }
   ],
   "source": [
    "# Plot training & validation accuracy values\n",
    "plt.plot(output_fc.history['accuracy'])\n",
    "plt.plot(output_fc.history['val_accuracy'])\n",
    "plt.title('Model loss')\n",
    "plt.ylabel('Accuracy')\n",
    "plt.xlabel('Epoch')\n",
    "plt.legend(['Train', 'Test'], loc='upper left')\n",
    "plt.show();"
   ]
  },
  {
   "cell_type": "markdown",
   "metadata": {
    "id": "LCAgwCwsKfz9"
   },
   "source": [
    "### Let's try improve the model"
   ]
  },
  {
   "cell_type": "code",
   "execution_count": null,
   "metadata": {
    "colab": {
     "base_uri": "https://localhost:8080/"
    },
    "executionInfo": {
     "elapsed": 444701,
     "status": "ok",
     "timestamp": 1617747836171,
     "user": {
      "displayName": "Brian Hu",
      "photoUrl": "https://lh3.googleusercontent.com/a-/AOh14Gg9C2hp-ML87Vme0BJw6zcKYZK-PtGb0Cpg1J1S=s64",
      "userId": "16141489273393480079"
     },
     "user_tz": 300
    },
    "id": "T8poKVzlKlcF",
    "outputId": "4a9bc81c-5a37-4a65-8af8-c6d2f4f7afd6"
   },
   "outputs": [
    {
     "name": "stdout",
     "output_type": "stream",
     "text": [
      "Model: \"sequential_1\"\n",
      "_________________________________________________________________\n",
      "Layer (type)                 Output Shape              Param #   \n",
      "=================================================================\n",
      "embedding_1 (Embedding)      (None, 80, 64)            1280000   \n",
      "_________________________________________________________________\n",
      "lstm (LSTM)                  (None, 80, 128)           98816     \n",
      "_________________________________________________________________\n",
      "dropout_3 (Dropout)          (None, 80, 128)           0         \n",
      "_________________________________________________________________\n",
      "lstm_1 (LSTM)                (None, 128)               131584    \n",
      "_________________________________________________________________\n",
      "dropout_4 (Dropout)          (None, 128)               0         \n",
      "_________________________________________________________________\n",
      "dense_3 (Dense)              (None, 1)                 129       \n",
      "=================================================================\n",
      "Total params: 1,510,529\n",
      "Trainable params: 1,510,529\n",
      "Non-trainable params: 0\n",
      "_________________________________________________________________\n"
     ]
    }
   ],
   "source": [
    "from tensorflow.keras.layers import Bidirectional\n",
    "\n",
    "# Define LSTM Architecture\n",
    "lstm = Sequential()\n",
    "lstm.add(Embedding(max_features, 64, input_length=maxlen))\n",
    "lstm.add(LSTM(128, return_sequences=True))\n",
    "lstm.add(Dropout(0.2))\n",
    "\n",
    "# If you want to stack LSTM layers (need to return sequences i.e. hiddent state)\n",
    "lstm.add(LSTM(128))\n",
    "lstm.add(Dropout(0.2))\n",
    "\n",
    "lstm.add(Dense(1, activation='sigmoid'))\n",
    "\n",
    "lstm.compile(loss='binary_crossentropy',\n",
    "             optimizer='adam', \n",
    "             metrics=['accuracy'])\n",
    "lstm.summary()"
   ]
  },
  {
   "cell_type": "code",
   "execution_count": null,
   "metadata": {
    "id": "voQi2GzR1YCh"
   },
   "outputs": [],
   "source": [
    "# from tensorflow.keras.layers import Bidirectional\n",
    "\n",
    "# # increase dropout up to 0.6 does not help, , activation='relu' not really useful\n",
    "# # Define LSTM Architecture\n",
    "# lstm = Sequential()\n",
    "# lstm.add(Embedding(max_features, 128, input_length=maxlen))\n",
    "# lstm.add(LSTM(128, return_sequences=True))\n",
    "# lstm.add(Dropout(0.2))\n",
    "\n",
    "# # If you want to stack LSTM layers (need to return sequences i.e. hiddent state)\n",
    "# lstm.add(LSTM(128, return_sequences=True))\n",
    "# lstm.add(Dropout(0.2))   \n",
    "\n",
    "# # If you want to add Bidirectional LSTM\n",
    "# lstm.add(Bidirectional(LSTM(128)))\n",
    "# lstm.add(Dropout(0.2))\n",
    "\n",
    "# lstm.add(Dense(1, activation='sigmoid'))\n",
    "\n",
    "# lstm.compile(loss='binary_crossentropy',\n",
    "#              optimizer='adam', \n",
    "#              metrics=['accuracy'])\n",
    "# lstm.summary()"
   ]
  },
  {
   "cell_type": "code",
   "execution_count": null,
   "metadata": {
    "colab": {
     "base_uri": "https://localhost:8080/"
    },
    "executionInfo": {
     "elapsed": 444690,
     "status": "ok",
     "timestamp": 1617747836172,
     "user": {
      "displayName": "Brian Hu",
      "photoUrl": "https://lh3.googleusercontent.com/a-/AOh14Gg9C2hp-ML87Vme0BJw6zcKYZK-PtGb0Cpg1J1S=s64",
      "userId": "16141489273393480079"
     },
     "user_tz": 300
    },
    "id": "ePUmrLbcJunw",
    "outputId": "e6c1cc50-59cb-49da-c5ec-d5bd2cfece9f"
   },
   "outputs": [
    {
     "data": {
      "text/plain": [
       "(25000, 80)"
      ]
     },
     "execution_count": 17,
     "metadata": {
      "tags": []
     },
     "output_type": "execute_result"
    }
   ],
   "source": [
    "x_train.shape"
   ]
  },
  {
   "cell_type": "code",
   "execution_count": null,
   "metadata": {
    "colab": {
     "base_uri": "https://localhost:8080/"
    },
    "executionInfo": {
     "elapsed": 785052,
     "status": "ok",
     "timestamp": 1617748176540,
     "user": {
      "displayName": "Brian Hu",
      "photoUrl": "https://lh3.googleusercontent.com/a-/AOh14Gg9C2hp-ML87Vme0BJw6zcKYZK-PtGb0Cpg1J1S=s64",
      "userId": "16141489273393480079"
     },
     "user_tz": 300
    },
    "id": "wRfvPnh4MZqf",
    "outputId": "03a1b602-de5e-40b0-c0ee-25f159e57330"
   },
   "outputs": [
    {
     "name": "stdout",
     "output_type": "stream",
     "text": [
      "Epoch 1/15\n",
      "782/782 [==============================] - 27s 30ms/step - loss: 0.5179 - accuracy: 0.7231 - val_loss: 0.3568 - val_accuracy: 0.8415\n",
      "Epoch 2/15\n",
      "782/782 [==============================] - 22s 29ms/step - loss: 0.2467 - accuracy: 0.9049 - val_loss: 0.3893 - val_accuracy: 0.8309\n",
      "Epoch 3/15\n",
      "782/782 [==============================] - 23s 29ms/step - loss: 0.1482 - accuracy: 0.9469 - val_loss: 0.5111 - val_accuracy: 0.8263\n",
      "Epoch 4/15\n",
      "782/782 [==============================] - 22s 29ms/step - loss: 0.0921 - accuracy: 0.9681 - val_loss: 0.6198 - val_accuracy: 0.8137\n",
      "Epoch 5/15\n",
      "782/782 [==============================] - 23s 29ms/step - loss: 0.0614 - accuracy: 0.9795 - val_loss: 0.6714 - val_accuracy: 0.8055\n",
      "Epoch 6/15\n",
      "782/782 [==============================] - 22s 28ms/step - loss: 0.0370 - accuracy: 0.9887 - val_loss: 0.7082 - val_accuracy: 0.8144\n",
      "Epoch 7/15\n",
      "782/782 [==============================] - 22s 29ms/step - loss: 0.0313 - accuracy: 0.9907 - val_loss: 0.7682 - val_accuracy: 0.8102\n",
      "Epoch 8/15\n",
      "782/782 [==============================] - 22s 28ms/step - loss: 0.0249 - accuracy: 0.9936 - val_loss: 0.9928 - val_accuracy: 0.8107\n",
      "Epoch 9/15\n",
      "782/782 [==============================] - 22s 29ms/step - loss: 0.0215 - accuracy: 0.9940 - val_loss: 0.8480 - val_accuracy: 0.8065\n",
      "Epoch 10/15\n",
      "782/782 [==============================] - 22s 29ms/step - loss: 0.0159 - accuracy: 0.9947 - val_loss: 1.0084 - val_accuracy: 0.8064\n",
      "Epoch 11/15\n",
      "782/782 [==============================] - 22s 28ms/step - loss: 0.0154 - accuracy: 0.9956 - val_loss: 0.9443 - val_accuracy: 0.8008\n",
      "Epoch 12/15\n",
      "782/782 [==============================] - 22s 28ms/step - loss: 0.0173 - accuracy: 0.9949 - val_loss: 1.0250 - val_accuracy: 0.8086\n",
      "Epoch 13/15\n",
      "782/782 [==============================] - 22s 28ms/step - loss: 0.0089 - accuracy: 0.9976 - val_loss: 1.2973 - val_accuracy: 0.8036\n",
      "Epoch 14/15\n",
      "782/782 [==============================] - 23s 29ms/step - loss: 0.0143 - accuracy: 0.9957 - val_loss: 0.9139 - val_accuracy: 0.8104\n",
      "Epoch 15/15\n",
      "782/782 [==============================] - 22s 29ms/step - loss: 0.0088 - accuracy: 0.9979 - val_loss: 1.1939 - val_accuracy: 0.8098\n"
     ]
    }
   ],
   "source": [
    "lstm_history = lstm.fit(x_train, y_train,\n",
    "                        batch_size=batch_size, \n",
    "                        epochs=15, \n",
    "                        validation_data=(x_test, y_test))"
   ]
  },
  {
   "cell_type": "code",
   "execution_count": null,
   "metadata": {
    "colab": {
     "base_uri": "https://localhost:8080/",
     "height": 295
    },
    "executionInfo": {
     "elapsed": 785222,
     "status": "ok",
     "timestamp": 1617748176717,
     "user": {
      "displayName": "Brian Hu",
      "photoUrl": "https://lh3.googleusercontent.com/a-/AOh14Gg9C2hp-ML87Vme0BJw6zcKYZK-PtGb0Cpg1J1S=s64",
      "userId": "16141489273393480079"
     },
     "user_tz": 300
    },
    "id": "swW_ADceKq3S",
    "outputId": "896a149a-1e7b-4c17-f2de-34496fc98768"
   },
   "outputs": [
    {
     "data": {
      "image/png": "[encoded data removed]",
      "text/plain": [
       "<Figure size 432x288 with 1 Axes>"
      ]
     },
     "metadata": {
      "needs_background": "light",
      "tags": []
     },
     "output_type": "display_data"
    }
   ],
   "source": [
    "# Plot training & validation accuracy values\n",
    "plt.plot(lstm_history.history['accuracy'])\n",
    "plt.plot(lstm_history.history['val_accuracy'])\n",
    "plt.title('Model loss')\n",
    "plt.ylabel('Accuracy')\n",
    "plt.xlabel('Epoch')\n",
    "plt.legend(['Train', 'Test'], loc='upper left')\n",
    "plt.show();"
   ]
  },
  {
   "cell_type": "markdown",
   "metadata": {
    "id": "JKvCT-fNKwit"
   },
   "source": [
    "## Evaluate model with test data and view classification results"
   ]
  },
  {
   "cell_type": "code",
   "execution_count": null,
   "metadata": {
    "colab": {
     "base_uri": "https://localhost:8080/"
    },
    "executionInfo": {
     "elapsed": 789703,
     "status": "ok",
     "timestamp": 1617748181204,
     "user": {
      "displayName": "Brian Hu",
      "photoUrl": "https://lh3.googleusercontent.com/a-/AOh14Gg9C2hp-ML87Vme0BJw6zcKYZK-PtGb0Cpg1J1S=s64",
      "userId": "16141489273393480079"
     },
     "user_tz": 300
    },
    "id": "DyaSjf4XKzbH",
    "outputId": "f4a0bbb3-8980-4fe4-8c1c-4548772c1f5a"
   },
   "outputs": [
    {
     "name": "stdout",
     "output_type": "stream",
     "text": [
      "              precision    recall  f1-score   support\n",
      "\n",
      "    Negative       0.80      0.82      0.81     12500\n",
      "    Positive       0.82      0.80      0.81     12500\n",
      "\n",
      "    accuracy                           0.81     25000\n",
      "   macro avg       0.81      0.81      0.81     25000\n",
      "weighted avg       0.81      0.81      0.81     25000\n",
      "\n"
     ]
    }
   ],
   "source": [
    "from sklearn.metrics import classification_report\n",
    "\n",
    "# Map for readable classnames\n",
    "class_names = [\"Negative\", \"Positive\"]\n",
    "\n",
    "# Get Model Predictions for test data\n",
    "predicted_classes = (lstm.predict(x_test) > 0.5).astype(\"int32\")\n",
    "print(classification_report(y_test, predicted_classes, target_names=class_names))"
   ]
  },
  {
   "cell_type": "markdown",
   "metadata": {
    "id": "sU9awhOeK5Qw"
   },
   "source": [
    "## Review some Incorrect Predictions"
   ]
  },
  {
   "cell_type": "code",
   "execution_count": null,
   "metadata": {
    "colab": {
     "base_uri": "https://localhost:8080/"
    },
    "executionInfo": {
     "elapsed": 789696,
     "status": "ok",
     "timestamp": 1617748181205,
     "user": {
      "displayName": "Brian Hu",
      "photoUrl": "https://lh3.googleusercontent.com/a-/AOh14Gg9C2hp-ML87Vme0BJw6zcKYZK-PtGb0Cpg1J1S=s64",
      "userId": "16141489273393480079"
     },
     "user_tz": 300
    },
    "id": "eTKX1eROKtDX",
    "outputId": "fbb9de36-dc98-4669-aeed-7c1c495f8a67"
   },
   "outputs": [
    {
     "name": "stdout",
     "output_type": "stream",
     "text": [
      "Incorrectly classified Test Review [1]\n",
      "Test Review #2: Predicted [Negative] Actual [Positive]\n",
      "Test Review Text: events <UNKNOWN> may or may not have had <UNKNOWN> turmoil in mind when he made <UNKNOWN> but whatever prompted his choice of material the film stands as a cautionary tale of universal application <UNKNOWN> could be the soviet union italy germany or japan in the 1930s or any country of any era that lets its guard down and is overwhelmed by tyranny it's a fascinating film even a charming one in its macabre way but its message is no joke\n",
      "\n",
      "Incorrectly classified Test Review [2]\n",
      "Test Review #8: Predicted [Positive] Actual [Negative]\n",
      "Test Review Text: of corn and pretty near intolerable today it was nominated for its imaginative special effects which are almost <UNKNOWN> in this day and age consisting mainly of trick photography the only outstanding positive feature which survives is its beautiful color and clarity sad to say of the many films made in this genre few of them come up to alexander <UNKNOWN> original thief of baghdad almost any other arabian nights film is superior to this one though it's a loser\n",
      "\n",
      "Incorrectly classified Test Review [3]\n",
      "Test Review #22: Predicted [Negative] Actual [Positive]\n",
      "Test Review Text: mystery a potent mix of comedy and crime this one takes chances where tarantino plays it safe with the hollywood formula the risks don't always pay off one character in one sequence comes off inappropriately silly and falls flat in the lead role thomas jane gives a wonderful and complex performance and two brief appearances by mickey rourke hint at the high potential of this much under and mis used actor here's a director one should keep one's eye on\n",
      "\n"
     ]
    }
   ],
   "source": [
    "\n",
    "predicted_classes_reshaped = np.reshape(predicted_classes, 25000)\n",
    "incorrect = np.nonzero(predicted_classes_reshaped != y_test)[0]\n",
    "# Get the word index from the dataset\n",
    "word_index = imdb.get_word_index()\n",
    "\n",
    "# Ensure that \"special\" words are mapped into human readable terms \n",
    "word_index = {k:(v+3) for k,v in word_index.items()}\n",
    "word_index[\"<PAD>\"] = 0\n",
    "word_index[\"<START>\"] = 1\n",
    "word_index[\"<UNKNOWN>\"] = 2\n",
    "\n",
    "def decode_review(text):\n",
    "    return ' '.join([reverse_word_index.get(i, '?') for i in text])\n",
    "\n",
    "# Perform reverse word lookup and make it callable\n",
    "reverse_word_index = dict([(value, key) for (key, value) in word_index.items()])\n",
    "\n",
    "# We select the first 10 incorrectly classified reviews\n",
    "for j, incorrect in enumerate(incorrect[0:3]):\n",
    "    \n",
    "    predicted = class_names[predicted_classes_reshaped[incorrect]]\n",
    "    actual = class_names[y_test[incorrect]]\n",
    "    human_readable_review = decode_review(x_test[incorrect])\n",
    "    \n",
    "    print(\"Incorrectly classified Test Review [\"+ str(j+1) +\"]\") \n",
    "    print(\"Test Review #\" + str(incorrect)  + \": Predicted [\"+ predicted + \"] Actual [\"+ actual + \"]\")\n",
    "    print(\"Test Review Text: \" + human_readable_review.replace(\"<PAD> \", \"\"))\n",
    "    print(\"\")"
   ]
  },
  {
   "cell_type": "markdown",
   "metadata": {
    "id": "HSdb5QxRK-Xi"
   },
   "source": [
    "## Run Your Own Text Against the Trained Model"
   ]
  },
  {
   "cell_type": "code",
   "execution_count": null,
   "metadata": {
    "colab": {
     "base_uri": "https://localhost:8080/"
    },
    "executionInfo": {
     "elapsed": 789853,
     "status": "ok",
     "timestamp": 1617748181370,
     "user": {
      "displayName": "Brian Hu",
      "photoUrl": "https://lh3.googleusercontent.com/a-/AOh14Gg9C2hp-ML87Vme0BJw6zcKYZK-PtGb0Cpg1J1S=s64",
      "userId": "16141489273393480079"
     },
     "user_tz": 300
    },
    "id": "BU4pD3OXK9pD",
    "outputId": "2a3491d0-8681-4bb2-d4ba-e0c346d853b9"
   },
   "outputs": [
    {
     "name": "stdout",
     "output_type": "stream",
     "text": [
      "Review: this movie was great I would definitely watch it again in theaters\n",
      "Padded Sequence: [[   0    0    0    0    0    0    0    0    0    0    0    0    0    0\n",
      "     0    0    0    0    0    0    0    0    0    0    0    0    0    0\n",
      "     0    0    0    0    0    0    0    0    0    0    0    0    0    0\n",
      "     0    0    0    0    0    0    0    0    0    0    0    0    0    0\n",
      "     0    0    0    0    0    0    0    0    0    0    0    0   14   20\n",
      "    16   87    2   62  407  106   12  174   11 2258]]\n",
      "Prediction Probability: 0.9998735\n",
      "Predicted Class: Positive\n"
     ]
    }
   ],
   "source": [
    "# Write your own review\n",
    "review = \"this movie was great I would definitely watch it again in theaters\"\n",
    "\n",
    "# Encode review (replace word with integers)\n",
    "tmp = []\n",
    "for word in review.split(\" \"):\n",
    "  if word in word_index:\n",
    "    tmp.append(word_index[word])\n",
    "  else:\n",
    "    tmp.append(2)  # 2 represents the \"<UNKNOWN>\" token\n",
    "\n",
    "# Ensure review is 300 words long (by padding or truncating)\n",
    "tmp_padded = sequence.pad_sequences([tmp], maxlen=maxlen) \n",
    "\n",
    "# Run your processed review against the trained model\n",
    "rawprediction = lstm.predict(np.array([tmp_padded][0]))[0][0]\n",
    "prediction = int(round(rawprediction))\n",
    "\n",
    "# Test the model and print the result\n",
    "print(\"Review: \" + review)\n",
    "print(\"Padded Sequence: \" + str(tmp_padded))\n",
    "print(\"Prediction Probability: \" + str(rawprediction))\n",
    "print(\"Predicted Class: \" + class_names[prediction])"
   ]
  },
  {
   "cell_type": "markdown",
   "metadata": {
    "id": "kJgXsELRA2pn"
   },
   "source": [
    "## Challenge\n",
    "\n",
    "You will be expected to use an Keras LSTM for a classicification task on the *Sprint Challenge*. "
   ]
  },
  {
   "cell_type": "markdown",
   "metadata": {
    "id": "7pETWPIe362y"
   },
   "source": [
    "# LSTM Text generation with Keras (Learn)"
   ]
  },
  {
   "cell_type": "markdown",
   "metadata": {
    "id": "IpcVPSLIA2po"
   },
   "source": [
    "## Overview\n",
    "\n",
    "What else can we do with LSTMs? Since we're analyzing the *sequence*, we can do more than classify - we can *generate* text. I'ved pulled some news stories using [newspaper](https://github.com/codelucas/newspaper/).\n",
    "\n",
    "This example is drawn from the Keras [documentation](https://keras.io/examples/lstm_text_generation/)."
   ]
  },
  {
   "cell_type": "code",
   "execution_count": null,
   "metadata": {
    "id": "Y1WW7GaeA2po"
   },
   "outputs": [],
   "source": [
    "from tensorflow.keras.callbacks import LambdaCallback\n",
    "from tensorflow.keras.models import Sequential\n",
    "from tensorflow.keras.layers import Dense, LSTM\n",
    "from tensorflow.keras.optimizers import RMSprop\n"
   ]
  },
  {
   "cell_type": "code",
   "execution_count": null,
   "metadata": {
    "colab": {
     "base_uri": "https://localhost:8080/"
    },
    "collapsed": true,
    "executionInfo": {
     "elapsed": 795535,
     "status": "ok",
     "timestamp": 1617748187062,
     "user": {
      "displayName": "Brian Hu",
      "photoUrl": "https://lh3.googleusercontent.com/a-/AOh14Gg9C2hp-ML87Vme0BJw6zcKYZK-PtGb0Cpg1J1S=s64",
      "userId": "16141489273393480079"
     },
     "user_tz": 300
    },
    "id": "G5klboIFJyWb",
    "jupyter": {
     "outputs_hidden": true
    },
    "outputId": "77d593b7-c2d0-4d37-df84-6e36c139de2e"
   },
   "outputs": [
    {
     "name": "stdout",
     "output_type": "stream",
     "text": [
      "Cloning into 'DS-Unit-4-Sprint-3-Deep-Learning'...\n",
      "remote: Enumerating objects: 13, done.\u001b[K\n",
      "remote: Counting objects: 100% (13/13), done.\u001b[K\n",
      "remote: Compressing objects: 100% (10/10), done.\u001b[K\n",
      "remote: Total 1162 (delta 3), reused 9 (delta 3), pack-reused 1149\u001b[K\n",
      "Receiving objects: 100% (1162/1162), 106.01 MiB | 30.05 MiB/s, done.\n",
      "Resolving deltas: 100% (148/148), done.\n"
     ]
    }
   ],
   "source": [
    "! git clone https://github.com/LambdaSchool/DS-Unit-4-Sprint-3-Deep-Learning.git\n",
    "! mv DS-Unit-4-Sprint-3-Deep-Learning/module1-rnn-and-lstm/articles/ .\n",
    "data_files = os.listdir('./articles')\n",
    "# df = pd.read_json('https://raw.githubusercontent.com/LambdaSchool/DS-Unit-4-Sprint-3-Deep-Learning/main/module1-rnn-and-lstm/wp_articles.json')\n",
    "# df.head()\n",
    "# Read in Data\n",
    "\n",
    "data = []\n",
    "\n",
    "for file in data_files:\n",
    "    if file[-3:] == 'txt':\n",
    "        with open(f'./articles/{file}', 'r', encoding='utf-8') as f:\n",
    "            data.append(f.read())\n",
    "\n",
    "len(data)"
   ]
  },
  {
   "cell_type": "code",
   "execution_count": null,
   "metadata": {
    "colab": {
     "base_uri": "https://localhost:8080/",
     "height": 120
    },
    "executionInfo": {
     "elapsed": 795707,
     "status": "ok",
     "timestamp": 1617748187254,
     "user": {
      "displayName": "Brian Hu",
      "photoUrl": "https://lh3.googleusercontent.com/a-/AOh14Gg9C2hp-ML87Vme0BJw6zcKYZK-PtGb0Cpg1J1S=s64",
      "userId": "16141489273393480079"
     },
     "user_tz": 300
    },
    "id": "7dlHIO7wA2pw",
    "outputId": "5fcf9f61-732f-46c9-9bae-c1d03eb155a1"
   },
   "outputs": [
    {
     "data": {
      "application/vnd.google.colaboratory.intrinsic+json": {
       "type": "string"
      },
      "text/plain": [
       "'Updated January 9, 2017\\n\\nThis Terms of Sale governs the sale of Washington Post Print Products (the “Print Products”).\\n\\n1. Print Products\\n\\nThe Washington Post Print Products include home delivery of the printed version of The Washington Post newspaper and may include access to some or all of Washington Post Digital Products, such as the website (www.washingtonpost.com), mobile site, and tablet and mobile apps. By using any of the Digital Products, you agree to our Terms of Service and Privacy Policy.\\n\\nYou can view The Post’s various subscription offerings at https://account.washingtonpost.com/acquisition. We also offer gift subscriptions at https://subscribe.washingtonpost.com/gift.\\n\\nThe Post reserves the right to modify the content, type and availability of any Print Products at any time.\\n\\n2. Subscription\\n\\na. Auto-renewing Subscription. Your Print Product subscription, which may start with a promotional rate, will auto-renew at the end of the cycle stated at the time of your order (“Billing Period”) unless and until you cancel your subscription or we terminate it. You can view the date of your next scheduled payment by logging in to your account on our website and clicking on the “My Subscriptions” tab. You will not receive a notice from us that your promotional period has ended or that your subscription has auto-renewed.\\n\\nb. Differing Subscriptions/Promotions. The Post may offer a number of types of subscriptions, including subscriptions to different Washington Post products and special promotions. Any materially different terms from those described in these Terms of Sale will be disclosed at the time of purchase or in other communications made available to you. You can find specific details regarding your subscription by logging in to your account on our website and clicking on the “My Subscriptions” tab. We reserve the right to change or terminate any offered subscriptions or promotions at any time. All Print Product subscriptions include delivery of our special Thanksgiving Day edition and other special editions as may be designated by The Post (up to 12 per calendar year). You will be charged your then-current Sunday home delivery rate for these editions. Unless otherwise stated, your subscription does not include TV Week. New print subscriptions may be charged a one-time activation fee.\\n\\nc. Eligibility. Print Product offers are valid only in limited locations within The Washington Post’s 7-day home-delivery area for new subscribers and those who have not been a Washington Post subscriber for the past thirty (30) days. Offers cannot be combined with any other Washington Post reduced-price home-delivery sales offers.\\n\\n3. Billing\\n\\na. Payment Method. You can pay for your subscription with a major credit card (“Payment Method”). Only credit cards are eligible for payment. Do not sign up for a subscription by identifying a debit card in the credit card option. A debit card may also be known as a “check” or “ATM” card and typically has the word “debit” on it. You may edit your Payment Method information by logging in to your account on our website and clicking on the “My Subscriptions” tab. If your payment is unsuccessful by reason of insufficient funds, expiration, or otherwise, you remain responsible for any uncollected amount.\\n\\nb. Recurring Billing. By placing an order for a subscription, you authorize us to charge you the subscription fee then in effect at the beginning of each Billing Period to your Payment Method. For example, you authorize us to charge your Payment Method the promotional rate disclosed on the subscription screen in the initial Billing Period (if applicable) and the regular subscription rate in subsequent Bill Periods. We automatically bill your Payment Method on the last day of each Billing Period. We reserve the right to change the timing of our billing, in particular, in the event your Payment Method has not successfully settled. If your Payment Method is declined for a recurring payment of your subscription fee, you have ninety (90) days to provide us a new Payment Method or your subscription will be canceled.\\n\\nYou acknowledge that the amount charged each Billing Period may vary for reasons that may include price changes or changing your subscription, and you authorize us to charge your Payment Method for such varying amount each Billing Period. You will not be notified of upcoming charges, except as otherwise provided herein.\\n\\nc. Price Changes. We reserve the right to change subscription fees for any of our subscriptions at any time. We will notify you of any changes if the regular fee for your subscription changes from what was stated at the time of your initial order. You will have an opportunity to cancel or change your subscription at that time. If you do not cancel or change your subscription, you will be charged the new subscription fee at your next Billing Period.\\n\\nd. Billing Period. We will charge the subscription fee at the commencement of your subscription or, if applicable, at the end of your free trial period, and automatically on the first calendar day of each Billing Period thereafter unless and until your subscription is cancelled.\\n\\ne. One-Time Purchases. When you purchase a stand-alone product, such as a gift subscription, we will charge your Payment Method at the time of purchase.\\n\\n4. Cancellations and Refunds\\n\\na. Cancellations. For Print Products, you can cancel your subscription by calling Customer Care at 202-334-6100 and speaking with a representative.\\n\\nb. Refunds. Payments are non-refundable, and there are no refunds or credits for partially used Billing Periods. We reserve the right, however, to issue refunds or credits at our sole discretion. If we issue a refund or credit in one instance, we are under no obligation to issue the same refund or credit in the future.\\n\\n5. E-Sign Disclosure and Consent. By purchasing a Print Product subscription and/or clicking on the box at account opening, you consent to receive notices, disclosures, agreements, policies, receipts, confirmations, transaction information, account information, other communications, and changes or updates to any such documents electronically (collectively, the “Electronic Communications”). We will provide these Electronic Communications by posting them on the profile page for your account on the Washington Post website and/or emailing them to your primary email address associated with your Print Product subscription. You agree that the Electronic Communications will satisfy any legal communication requirements, including that such communications be in writing. Electronic Communications will be deemed received by you within 24 hours of the time posted to our website or on the profile page for your account, or within 24 hours of the time emailed to you unless we receive notice that the email was not delivered.\\n\\na. System Requirements to Access Information. To receive Electronic Communications, you must have the following equipment and software:\\n\\n• a computer or other device with an Internet connection;\\n\\n• a current web browser that includes 128-bit encryption (e.g. Internet Explorer version 6.0 and above, Firefox version 2.0 and above, Chrome version 3.0 and above, or Safari 3.0 and above) with cookies enabled;\\n\\n• Adobe Acrobat Reader version 8.0 and above to open documents in .pdf format;\\n\\n• a valid email address (your primary email address associated with the Print Product Subscription); and\\n\\n• sufficient storage space or other methods (e.g., a USB drive or secure online storage) to save past Electronic Communications or a printer to print them.\\n\\nYour access to this page verifies that your system/device meets these requirements. You also confirm that you have access to the necessary equipment and are able to receive, open, print, or store Electronic Communications.\\n\\nIt is your responsibility to keep your primary email address up to date. You can change your primary email address by logging in to your account on our website and accessing your profile. You agree that Electronic Communications sent to a primary email address that is incorrect, out of date, blocked by your service provider, or cannot be received due to your failure to maintain the system requirements, will be deemed to have been provided to you. If an Electronic Communication is returned to us because an email your address becomes invalid, we may deem your subscription to be inactive, and you will not receive or have access to your subscription until we receive a valid, working primary email address from you.\\n\\nWe will notify you if there are any material changes to the hardware or software needed to receive Electronic Communications.\\n\\nb. Paper Delivery of Disclosures and Notices. You have the right to receive a paper copy of the Electronic Communications. To receive a paper copy at no charge, please request it in one of the following ways: (1) go to the Washington Post Help Desk www.washingtonpost.com/contactus and send us a message with your name and email address; or (2) call us at 202-334-6100 and speak to the customer service representative. Any withdrawal of your consent to receive Electronic Communications will be effective only after we have a reasonable period of time to process your withdrawal. You understand and agree that if you withdraw your consent we may – though we are not required to – cancel your Print Product subscription.\\n\\n6. Changes to the Terms of Sale. We may, from time to time, change these Terms of Sale. When such changes are made, we will make a copy of the new Terms of Sale available to you. You can contact homedelivery@washpost.com if you have any questions about the Terms of Sale.'"
      ]
     },
     "execution_count": 30,
     "metadata": {
      "tags": []
     },
     "output_type": "execute_result"
    }
   ],
   "source": [
    "data[-1]"
   ]
  },
  {
   "cell_type": "code",
   "execution_count": null,
   "metadata": {
    "id": "__blzmCbA2px"
   },
   "outputs": [],
   "source": [
    "# Encode Data as Chars\n",
    "\n",
    "# Gather all text \n",
    "# Why? 1. See all possible characters 2. For training / splitting later\n",
    "text = \" \".join(data)\n",
    "\n",
    "# Unique Characters\n",
    "chars = list(set(text))\n",
    "\n",
    "# Lookup Tables\n",
    "char_int = {c:i for i, c in enumerate(chars)} \n",
    "int_char = {i:c for i, c in enumerate(chars)} "
   ]
  },
  {
   "cell_type": "code",
   "execution_count": null,
   "metadata": {
    "colab": {
     "base_uri": "https://localhost:8080/"
    },
    "executionInfo": {
     "elapsed": 795837,
     "status": "ok",
     "timestamp": 1617748187390,
     "user": {
      "displayName": "Brian Hu",
      "photoUrl": "https://lh3.googleusercontent.com/a-/AOh14Gg9C2hp-ML87Vme0BJw6zcKYZK-PtGb0Cpg1J1S=s64",
      "userId": "16141489273393480079"
     },
     "user_tz": 300
    },
    "id": "8yvRTFRuA2pz",
    "outputId": "3cfb0147-fea4-4342-c294-3e55f4ebc510"
   },
   "outputs": [
    {
     "data": {
      "text/plain": [
       "121"
      ]
     },
     "execution_count": 32,
     "metadata": {
      "tags": []
     },
     "output_type": "execute_result"
    }
   ],
   "source": [
    "len(chars)"
   ]
  },
  {
   "cell_type": "code",
   "execution_count": null,
   "metadata": {
    "colab": {
     "base_uri": "https://localhost:8080/"
    },
    "collapsed": true,
    "executionInfo": {
     "elapsed": 795833,
     "status": "ok",
     "timestamp": 1617748187390,
     "user": {
      "displayName": "Brian Hu",
      "photoUrl": "https://lh3.googleusercontent.com/a-/AOh14Gg9C2hp-ML87Vme0BJw6zcKYZK-PtGb0Cpg1J1S=s64",
      "userId": "16141489273393480079"
     },
     "user_tz": 300
    },
    "id": "GZm8pN5rma7n",
    "jupyter": {
     "outputs_hidden": true
    },
    "outputId": "6cf36f22-000e-4ce3-e780-1fb41eeb3053"
   },
   "outputs": [
    {
     "data": {
      "text/plain": [
       "{0: '🤔',\n",
       " 1: 'k',\n",
       " 2: '⭐',\n",
       " 3: '👻',\n",
       " 4: 'ê',\n",
       " 5: '-',\n",
       " 6: '2',\n",
       " 7: '’',\n",
       " 8: 'M',\n",
       " 9: '1',\n",
       " 10: 'W',\n",
       " 11: \"'\",\n",
       " 12: '9',\n",
       " 13: ' ',\n",
       " 14: '©',\n",
       " 15: '―',\n",
       " 16: 'U',\n",
       " 17: '\"',\n",
       " 18: 'Q',\n",
       " 19: 'i',\n",
       " 20: '|',\n",
       " 21: 'R',\n",
       " 22: '/',\n",
       " 23: '{',\n",
       " 24: '5',\n",
       " 25: '‘',\n",
       " 26: 'y',\n",
       " 27: 'a',\n",
       " 28: '7',\n",
       " 29: 'A',\n",
       " 30: '@',\n",
       " 31: 'c',\n",
       " 32: 'ó',\n",
       " 33: ';',\n",
       " 34: '!',\n",
       " 35: '&',\n",
       " 36: 'V',\n",
       " 37: '●',\n",
       " 38: '.',\n",
       " 39: 'ö',\n",
       " 40: 'w',\n",
       " 41: 'C',\n",
       " 42: 'é',\n",
       " 43: '⅓',\n",
       " 44: '½',\n",
       " 45: 'q',\n",
       " 46: '—',\n",
       " 47: ')',\n",
       " 48: 'n',\n",
       " 49: '_',\n",
       " 50: 'K',\n",
       " 51: 'ã',\n",
       " 52: '+',\n",
       " 53: 'í',\n",
       " 54: 'm',\n",
       " 55: '3',\n",
       " 56: '(',\n",
       " 57: 'H',\n",
       " 58: '”',\n",
       " 59: '0',\n",
       " 60: '\\u2066',\n",
       " 61: 'E',\n",
       " 62: 'o',\n",
       " 63: 'D',\n",
       " 64: 'f',\n",
       " 65: '\\xad',\n",
       " 66: 'J',\n",
       " 67: 'l',\n",
       " 68: '·',\n",
       " 69: 'T',\n",
       " 70: 'G',\n",
       " 71: 'u',\n",
       " 72: '%',\n",
       " 73: '$',\n",
       " 74: 'x',\n",
       " 75: ',',\n",
       " 76: '“',\n",
       " 77: 'h',\n",
       " 78: '•',\n",
       " 79: ']',\n",
       " 80: '?',\n",
       " 81: 'd',\n",
       " 82: '×',\n",
       " 83: 'N',\n",
       " 84: 'g',\n",
       " 85: '6',\n",
       " 86: 's',\n",
       " 87: '⅔',\n",
       " 88: 'F',\n",
       " 89: '#',\n",
       " 90: 't',\n",
       " 91: '\\n',\n",
       " 92: 'v',\n",
       " 93: 'ﬂ',\n",
       " 94: 'b',\n",
       " 95: '[',\n",
       " 96: 'p',\n",
       " 97: '🗣',\n",
       " 98: 'e',\n",
       " 99: 'è',\n",
       " 100: '…',\n",
       " 101: 'P',\n",
       " 102: 'L',\n",
       " 103: 'ñ',\n",
       " 104: 'O',\n",
       " 105: 'S',\n",
       " 106: 'X',\n",
       " 107: '–',\n",
       " 108: '\\u2069',\n",
       " 109: 'z',\n",
       " 110: 'j',\n",
       " 111: 'I',\n",
       " 112: 'Y',\n",
       " 113: 'r',\n",
       " 114: '*',\n",
       " 115: ':',\n",
       " 116: '8',\n",
       " 117: 'B',\n",
       " 118: '4',\n",
       " 119: 'Z',\n",
       " 120: 'á'}"
      ]
     },
     "execution_count": 33,
     "metadata": {
      "tags": []
     },
     "output_type": "execute_result"
    }
   ],
   "source": [
    "int_char"
   ]
  },
  {
   "cell_type": "code",
   "execution_count": null,
   "metadata": {
    "colab": {
     "base_uri": "https://localhost:8080/"
    },
    "executionInfo": {
     "elapsed": 796485,
     "status": "ok",
     "timestamp": 1617748188046,
     "user": {
      "displayName": "Brian Hu",
      "photoUrl": "https://lh3.googleusercontent.com/a-/AOh14Gg9C2hp-ML87Vme0BJw6zcKYZK-PtGb0Cpg1J1S=s64",
      "userId": "16141489273393480079"
     },
     "user_tz": 300
    },
    "id": "7xPrrW_kA2p1",
    "outputId": "93de660d-a59c-4cda-8f1b-261bade03f66"
   },
   "outputs": [
    {
     "name": "stdout",
     "output_type": "stream",
     "text": [
      "sequences:  178374\n"
     ]
    }
   ],
   "source": [
    "# Create the sequence data\n",
    "\n",
    "maxlen = 40\n",
    "step = 5\n",
    "\n",
    "encoded = [char_int[c] for c in text]\n",
    "\n",
    "sequences = [] # Each element is 40 chars long\n",
    "next_char = [] # One element for each sequence\n",
    "\n",
    "for i in range(0, len(encoded) - maxlen, step):\n",
    "    \n",
    "    sequences.append(encoded[i : i + maxlen])\n",
    "    next_char.append(encoded[i + maxlen])\n",
    "    \n",
    "print('sequences: ', len(sequences))\n"
   ]
  },
  {
   "cell_type": "code",
   "execution_count": null,
   "metadata": {
    "colab": {
     "base_uri": "https://localhost:8080/"
    },
    "collapsed": true,
    "executionInfo": {
     "elapsed": 796481,
     "status": "ok",
     "timestamp": 1617748188047,
     "user": {
      "displayName": "Brian Hu",
      "photoUrl": "https://lh3.googleusercontent.com/a-/AOh14Gg9C2hp-ML87Vme0BJw6zcKYZK-PtGb0Cpg1J1S=s64",
      "userId": "16141489273393480079"
     },
     "user_tz": 300
    },
    "id": "O24FOioAA2p3",
    "jupyter": {
     "outputs_hidden": true
    },
    "outputId": "1b500d59-269a-4ac2-cc57-9f1ecb5e2f9b"
   },
   "outputs": [
    {
     "data": {
      "text/plain": [
       "[91,\n",
       " 91,\n",
       " 101,\n",
       " 113,\n",
       " 98,\n",
       " 86,\n",
       " 19,\n",
       " 81,\n",
       " 98,\n",
       " 48,\n",
       " 90,\n",
       " 13,\n",
       " 69,\n",
       " 113,\n",
       " 71,\n",
       " 54,\n",
       " 96,\n",
       " 13,\n",
       " 86,\n",
       " 90,\n",
       " 62,\n",
       " 96,\n",
       " 86,\n",
       " 13,\n",
       " 90,\n",
       " 62,\n",
       " 13,\n",
       " 90,\n",
       " 27,\n",
       " 67,\n",
       " 1,\n",
       " 13,\n",
       " 90,\n",
       " 62,\n",
       " 13,\n",
       " 54,\n",
       " 98,\n",
       " 54,\n",
       " 94,\n",
       " 98]"
      ]
     },
     "execution_count": 35,
     "metadata": {
      "tags": []
     },
     "output_type": "execute_result"
    }
   ],
   "source": [
    "sequences[0]"
   ]
  },
  {
   "cell_type": "code",
   "execution_count": null,
   "metadata": {
    "id": "tj7sCvZ_nKoD"
   },
   "outputs": [],
   "source": [
    "# for i in sequences[0]:\n",
    "#   print(int_char[i])"
   ]
  },
  {
   "cell_type": "code",
   "execution_count": null,
   "metadata": {
    "colab": {
     "base_uri": "https://localhost:8080/"
    },
    "executionInfo": {
     "elapsed": 796476,
     "status": "ok",
     "timestamp": 1617748188048,
     "user": {
      "displayName": "Brian Hu",
      "photoUrl": "https://lh3.googleusercontent.com/a-/AOh14Gg9C2hp-ML87Vme0BJw6zcKYZK-PtGb0Cpg1J1S=s64",
      "userId": "16141489273393480079"
     },
     "user_tz": 300
    },
    "id": "sZK7hPD9naA_",
    "outputId": "dd2c89a2-8fff-4d94-e7bc-7ce9d08e440c"
   },
   "outputs": [
    {
     "data": {
      "text/plain": [
       "(113, 'r')"
      ]
     },
     "execution_count": 37,
     "metadata": {
      "tags": []
     },
     "output_type": "execute_result"
    }
   ],
   "source": [
    "next_char[0], int_char[next_char[0]]"
   ]
  },
  {
   "cell_type": "code",
   "execution_count": null,
   "metadata": {
    "id": "hO8202TFA2p5"
   },
   "outputs": [],
   "source": [
    "# Create x & y\n",
    "\n",
    "x = np.zeros((len(sequences), maxlen, len(chars)), dtype=np.bool)\n",
    "y = np.zeros((len(sequences),len(chars)), dtype=np.bool)\n",
    "\n",
    "for i, sequence in enumerate(sequences):\n",
    "    for t, char in enumerate(sequence):\n",
    "        x[i,t,char] = 1\n",
    "    y[i, next_char[i]] = 1\n",
    "        "
   ]
  },
  {
   "cell_type": "code",
   "execution_count": null,
   "metadata": {
    "colab": {
     "base_uri": "https://localhost:8080/"
    },
    "executionInfo": {
     "elapsed": 798758,
     "status": "ok",
     "timestamp": 1617748190337,
     "user": {
      "displayName": "Brian Hu",
      "photoUrl": "https://lh3.googleusercontent.com/a-/AOh14Gg9C2hp-ML87Vme0BJw6zcKYZK-PtGb0Cpg1J1S=s64",
      "userId": "16141489273393480079"
     },
     "user_tz": 300
    },
    "id": "T0X8m7mRA2p7",
    "outputId": "b22f9370-f813-4a34-aa26-cb596caa06e4"
   },
   "outputs": [
    {
     "data": {
      "text/plain": [
       "(178374, 40, 121)"
      ]
     },
     "execution_count": 39,
     "metadata": {
      "tags": []
     },
     "output_type": "execute_result"
    }
   ],
   "source": [
    "x.shape"
   ]
  },
  {
   "cell_type": "code",
   "execution_count": null,
   "metadata": {
    "colab": {
     "base_uri": "https://localhost:8080/"
    },
    "executionInfo": {
     "elapsed": 798755,
     "status": "ok",
     "timestamp": 1617748190337,
     "user": {
      "displayName": "Brian Hu",
      "photoUrl": "https://lh3.googleusercontent.com/a-/AOh14Gg9C2hp-ML87Vme0BJw6zcKYZK-PtGb0Cpg1J1S=s64",
      "userId": "16141489273393480079"
     },
     "user_tz": 300
    },
    "id": "wXs8kmfMrNPs",
    "outputId": "681d26dd-9f71-4fd7-bb8c-26c95c226cb4"
   },
   "outputs": [
    {
     "data": {
      "text/plain": [
       "array([[False, False, False, ..., False, False, False],\n",
       "       [False, False, False, ..., False, False, False],\n",
       "       [False, False, False, ..., False, False, False],\n",
       "       ...,\n",
       "       [False, False, False, ..., False, False, False],\n",
       "       [False, False, False, ..., False, False, False],\n",
       "       [False, False, False, ..., False, False, False]])"
      ]
     },
     "execution_count": 40,
     "metadata": {
      "tags": []
     },
     "output_type": "execute_result"
    }
   ],
   "source": [
    "x[0]"
   ]
  },
  {
   "cell_type": "code",
   "execution_count": null,
   "metadata": {
    "collapsed": true,
    "id": "3o4BlirWrV6g",
    "jupyter": {
     "outputs_hidden": true
    }
   },
   "outputs": [],
   "source": [
    "# chars"
   ]
  },
  {
   "cell_type": "code",
   "execution_count": null,
   "metadata": {
    "colab": {
     "base_uri": "https://localhost:8080/"
    },
    "executionInfo": {
     "elapsed": 798748,
     "status": "ok",
     "timestamp": 1617748190338,
     "user": {
      "displayName": "Brian Hu",
      "photoUrl": "https://lh3.googleusercontent.com/a-/AOh14Gg9C2hp-ML87Vme0BJw6zcKYZK-PtGb0Cpg1J1S=s64",
      "userId": "16141489273393480079"
     },
     "user_tz": 300
    },
    "id": "7O2yMVCoA2p9",
    "outputId": "bd2386b0-ef1f-4cfb-e682-cfacf87603c7"
   },
   "outputs": [
    {
     "data": {
      "text/plain": [
       "(178374, 121)"
      ]
     },
     "execution_count": 42,
     "metadata": {
      "tags": []
     },
     "output_type": "execute_result"
    }
   ],
   "source": [
    "y.shape"
   ]
  },
  {
   "cell_type": "code",
   "execution_count": null,
   "metadata": {
    "colab": {
     "base_uri": "https://localhost:8080/"
    },
    "executionInfo": {
     "elapsed": 798746,
     "status": "ok",
     "timestamp": 1617748190339,
     "user": {
      "displayName": "Brian Hu",
      "photoUrl": "https://lh3.googleusercontent.com/a-/AOh14Gg9C2hp-ML87Vme0BJw6zcKYZK-PtGb0Cpg1J1S=s64",
      "userId": "16141489273393480079"
     },
     "user_tz": 300
    },
    "id": "M_KKytv4ocwC",
    "outputId": "a0cfe003-3ee4-41cc-b6dd-da43bd173f70"
   },
   "outputs": [
    {
     "data": {
      "text/plain": [
       "(40, 121)"
      ]
     },
     "execution_count": 43,
     "metadata": {
      "tags": []
     },
     "output_type": "execute_result"
    }
   ],
   "source": [
    "(maxlen, len(chars))"
   ]
  },
  {
   "cell_type": "code",
   "execution_count": null,
   "metadata": {
    "id": "vs8mDRJgA2qB"
   },
   "outputs": [],
   "source": [
    "# build the model: a single LSTM\n",
    "\n",
    "model = Sequential()\n",
    "model.add(LSTM(128, input_shape=(maxlen, len(chars))))\n",
    "model.add(Dense(len(chars), activation='softmax'))\n",
    "model.compile(loss='categorical_crossentropy', optimizer='adam')"
   ]
  },
  {
   "cell_type": "code",
   "execution_count": null,
   "metadata": {
    "id": "ep1A7S7CA2qC"
   },
   "outputs": [],
   "source": [
    "def sample(preds):\n",
    "    # helper function to sample an index from a probability array\n",
    "    preds = np.asarray(preds).astype('float64')\n",
    "    preds = np.log(preds) / 1\n",
    "    exp_preds = np.exp(preds)\n",
    "    preds = exp_preds / np.sum(exp_preds)\n",
    "    probas = np.random.multinomial(1, preds, 1)\n",
    "    return np.argmax(probas)"
   ]
  },
  {
   "cell_type": "code",
   "execution_count": null,
   "metadata": {
    "id": "HuhUbehBA2qE"
   },
   "outputs": [],
   "source": [
    "def on_epoch_end(epoch, _):\n",
    "    # Function invoked at end of each epoch. Prints generated text.\n",
    "    \n",
    "    print()\n",
    "    print('----- Generating text after Epoch: %d' % epoch)\n",
    "    \n",
    "    start_index = random.randint(0, len(text) - maxlen - 1)\n",
    "    \n",
    "    generated = ''\n",
    "    \n",
    "    sentence = text[start_index: start_index + maxlen]\n",
    "    generated += sentence\n",
    "    \n",
    "    print('----- Generating with seed: \"' + sentence + '\"')\n",
    "    sys.stdout.write(generated)\n",
    "    \n",
    "    for i in range(400):\n",
    "        x_pred = np.zeros((1, maxlen, len(chars)))\n",
    "        for t, char in enumerate(sentence):\n",
    "            x_pred[0, t, char_int[char]] = 1\n",
    "            \n",
    "        preds = model.predict(x_pred, verbose=0)[0]\n",
    "        next_index = sample(preds)\n",
    "        next_char = int_char[next_index]\n",
    "        \n",
    "        sentence = sentence[1:] + next_char\n",
    "        \n",
    "        sys.stdout.write(next_char)\n",
    "        sys.stdout.flush()\n",
    "    print()\n",
    "\n",
    "\n",
    "print_callback = LambdaCallback(on_epoch_end=on_epoch_end)"
   ]
  },
  {
   "cell_type": "code",
   "execution_count": null,
   "metadata": {
    "colab": {
     "base_uri": "https://localhost:8080/"
    },
    "executionInfo": {
     "elapsed": 1235574,
     "status": "ok",
     "timestamp": 1617748627180,
     "user": {
      "displayName": "Brian Hu",
      "photoUrl": "https://lh3.googleusercontent.com/a-/AOh14Gg9C2hp-ML87Vme0BJw6zcKYZK-PtGb0Cpg1J1S=s64",
      "userId": "16141489273393480079"
     },
     "user_tz": 300
    },
    "id": "gVf6TjXtA2qG",
    "outputId": "4344b5b4-dad0-453b-cb8c-9836d08eb9c2"
   },
   "outputs": [
    {
     "name": "stdout",
     "output_type": "stream",
     "text": [
      "Epoch 1/10\n",
      "5575/5575 [==============================] - 30s 5ms/step - loss: 2.8504\n",
      "\n",
      "----- Generating text after Epoch: 0\n",
      "----- Generating with seed: \"found the vista “indescribably beautiful\"\n",
      "found the vista “indescribably beautiful so cordenlice whiin thus bres ar Sid lliag on the ’lincy wis wipelt pulkired wime astitt cesurd dechasted nidn ont a⭐d, Chen poes mong om Can Ebossing any beve arek Kemtiritive foous non hogt th ing that he thar yeve por hatp prits cobpear’s romedkess, Co te the Haed on mocl cor tho mo. houk se derplat the mubke le wo es atrit icate inchere the the oh at therscind Mile theresing, En “The 2 metiy \n",
      "Epoch 2/10\n",
      "5575/5575 [==============================] - 29s 5ms/step - loss: 2.2959\n",
      "\n",
      "----- Generating text after Epoch: 1\n",
      "----- Generating with seed: \"us Fox News interviews, he said Trump ha\"\n",
      "us Fox News interviews, he said Trump has or urpone peadion’ invintedd in the p1.s fors and ove cumpisnery helse fral a just calloste repreancency “Sabar your sasp beeg’t ach a cordsting paro in Thurion and tars iom out reay busks Traplits fichill notle, eruy exomNlgon plamy wan yean the senvantyon Anbion 5Bay Fir ilg/ jogront botare coud filot?” Muls’s Trur in Sadry of ugharutt om heliog mauters shass, of kitl the h6gfimallo hare elver\n",
      "Epoch 3/10\n",
      "5575/5575 [==============================] - 30s 5ms/step - loss: 2.1396\n",
      "\n",
      "----- Generating text after Epoch: 2\n",
      "----- Generating with seed: \" in the division.\n",
      "\n",
      "The 49ers totally neu\"\n",
      " in the division.\n",
      "\n",
      "The 49ers totally neurs upate clousis wrike crungly not macy — the meria Vohatime to that tarcam/hily attionlag, bred got of suntay are iscupicy with that jure poring wals on Unyen “0 proutd” ad wotl hime ralizents.” Be exandorgee Prucce.\n",
      "\n",
      ". Sucur, ateays asy, your coull gueler. Teagh one wishicae ale inle, a protedeitce whened beang Ilwigha, whe hat cay imotive wart asontion afd aly wat Sunter unarunch 2x A criald fu\n",
      "Epoch 4/10\n",
      "5575/5575 [==============================] - 28s 5ms/step - loss: 2.0392\n",
      "\n",
      "----- Generating text after Epoch: 3\n",
      "----- Generating with seed: \"close range by Lee Boyd Malvo in 2002, n\"\n",
      "close range by Lee Boyd Malvo in 2002, ni didlagnong is whe Faybe, sogelist foom “bouts and Chiod,” W8.”\n",
      "\n",
      "AD\n",
      "\n",
      "ADE SBgelet sarvertem lald yourgrs cauling acreal wernored or the Unilsed CFarrain solligicaming propoledssurely, minaruzontar adraghon charted lithisylicy by adlemn, souting forn’’ Trustinees ald S Seoroon Dastuy\n",
      "\n",
      "Mo ainching ub.ade the can in Prumotexin’s morch, allemshingwaver. (Its)\n",
      "\n",
      "A.\n",
      "\n",
      "Truma exip been sand of the bows inte\n",
      "Epoch 5/10\n",
      "5575/5575 [==============================] - 29s 5ms/step - loss: 1.9598\n",
      "\n",
      "----- Generating text after Epoch: 4\n",
      "----- Generating with seed: \"ed on foot or on bikes hastily thrown do\"\n",
      "ed on foot or on bikes hastily thrown dotring donge-from. “We assuments.\n",
      "\n",
      "Nofed Sy.2’0 250 fech about to claping, a read to ragelation recern Ealallation Rusourement, Warre, a so are presers erebly who home. Livan of I gores have in they applome by that nordially cay dove Creavo’s ext to empeally kson, to defenty no maroly to year. Forr ollver may bessts not realand lost at the expen offettro in perzay. “In the layring. IS befort wat th\n",
      "Epoch 6/10\n",
      "5575/5575 [==============================] - 28s 5ms/step - loss: 1.9004\n",
      "\n",
      "----- Generating text after Epoch: 5\n",
      "----- Generating with seed: \" fastest Bottomless Pinocchio ever with \"\n",
      " fastest Bottomless Pinocchio ever with ment fich actionacry, and for of thit incremici in Twak: in Sondeman Auwh be late.\n",
      "\n",
      "Mazers. Yom a spet feetwer sprted with ad form’, Dilithey agon the purtion ever told to despermance of inex chate about out by Swit in will mentwals 12 Rexortars. Trump Tergns lading thicrement when dov a greance or a fot lowe he’s an sersations — mask on to the onefore spops, an the do are be a es mays wy, pentry \n",
      "Epoch 7/10\n",
      "5575/5575 [==============================] - 30s 5ms/step - loss: 1.8522\n",
      "\n",
      "----- Generating text after Epoch: 6\n",
      "----- Generating with seed: \" Congress can pursue any such oversight,\"\n",
      " Congress can pursue any such oversight, werkneled beach to fole? Mokeation at even sime howvencated and cuanerate integests That’ll 166 peovo:y time a dorgill Paty “matuld to boude endrigies. \n",
      "Vise worns pertet ersoncressionatics un the ciursbank ear for our for sarule. But Relorn, but Democcogman].”\n",
      "\n",
      "On HVoreys arlia gitpart, vifuing endisally covertalth the prean collenss)\n",
      "\n",
      "The Natil from ure/neffing oul josscated linw,” of Dopscen, \n",
      "Epoch 8/10\n",
      "5575/5575 [==============================] - 29s 5ms/step - loss: 1.7999\n",
      "\n",
      "----- Generating text after Epoch: 7\n",
      "----- Generating with seed: \"es occur in the United States each year,\"\n",
      "es occur in the United States each year, in yep-said.”\n",
      "\n",
      "Novildiss, bre res. Danitaring Satyina giming to ats.”. Ochovict and Covined it that we that meds hithack meff of prespaciating us cis.”\n",
      "\n",
      "Mimak mover St. If Bown, I’s the hastracers arveria arree ligions.\n",
      "\n",
      "We with Scrade is reforted to the residented to having evel impaibed with reaserse, all works his clead-would medrine, collerber. “Was bes,” . Chise Jeirury’s I’playic fice of it\n",
      "Epoch 9/10\n",
      "5575/5575 [==============================] - 28s 5ms/step - loss: 1.7622\n",
      "\n",
      "----- Generating text after Epoch: 8\n",
      "----- Generating with seed: \"eth Warren (D-Mass.) has been siphoning \"\n",
      "eth Warren (D-Mass.) has been siphoning to Benzel's of calth ARHam Game the Well/AD\n",
      "\n",
      "A: Fighty respessiog of alreges on NFand Eegented ployed yor influcts of pifemer Iffir Doss in Trump and lise of you cample adminst-leal meal beforen that whate fanal call in when eachage, the mulo-arunkencous to persion by soch anthrist’s your sind. Mut NEC.. He asken shill’s on “mack from kil indedench of the some crime was devenal, teme: The saverarc\n",
      "Epoch 10/10\n",
      "5575/5575 [==============================] - 28s 5ms/step - loss: 1.7255\n",
      "\n",
      "----- Generating text after Epoch: 9\n",
      "----- Generating with seed: \"Soviet space effort. His capsule docked \"\n",
      "Soviet space effort. His capsule docked oun reports a decition to your becamons, the moles, will with the gotuct weve a pity there walthment thas argiessing alendern exolame: coallem, and he face onded more visit more the saupp over surster and cuntionies to suggeet at a tereiggned to bejusters torced plan of sevoen overfelinies, Leana could is reived that way repeatod this colptory has saidle: In the Bore grang, office. Theying obioniz\n"
     ]
    },
    {
     "data": {
      "text/plain": [
       "<tensorflow.python.keras.callbacks.History at 0x7f07b7f0f850>"
      ]
     },
     "execution_count": 47,
     "metadata": {
      "tags": []
     },
     "output_type": "execute_result"
    }
   ],
   "source": [
    "# fit the model\n",
    "model.fit(x, y,\n",
    "          batch_size=32,\n",
    "          epochs=10,\n",
    "          callbacks=[print_callback])"
   ]
  },
  {
   "cell_type": "markdown",
   "metadata": {
    "id": "W9WnH90xA2qI"
   },
   "source": [
    "## Challenge\n",
    "\n",
    "You will be expected to use a Keras LSTM to generate text on today's assignment. "
   ]
  },
  {
   "cell_type": "markdown",
   "metadata": {
    "id": "E6R4TGKAA2qJ"
   },
   "source": [
    "# Review\n",
    "\n",
    "- <a href=\"#p1\">Part 1: </a>Describe Neural Networks used for modeling sequences\n",
    "    * Sequence Problems:\n",
    "        - Time Series (like Stock Prices, Weather, etc.)\n",
    "        - Text Classification\n",
    "        - Text Generation\n",
    "        - And many more! :D\n",
    "    * LSTMs are generally preferred over RNNs for most problems\n",
    "    * LSTMs are typically a single hidden layer of LSTM type; although, other architectures are possible.\n",
    "    * Keras has LSTMs/RNN layer types implemented nicely\n",
    "- <a href=\"#p2\">Part 2: </a>Apply a LSTM to a text generation problem using Keras\n",
    "    * Shape of input data is very important\n",
    "    * Can take a while to train\n",
    "    * You can use it to write movie scripts. :P "
   ]
  }
 ],
 "metadata": {
  "accelerator": "GPU",
  "colab": {
   "collapsed_sections": [],
   "name": "DSPT9_441_RNN_and_LSTM Class.ipynb",
   "provenance": [],
   "toc_visible": true
  },
  "kernelspec": {
   "display_name": "U4-S2-NN (Python3)",
   "language": "python",
   "name": "u4-s2-nn"
  },
  "language_info": {
   "codemirror_mode": {
    "name": "ipython",
    "version": 3
   },
   "file_extension": ".py",
   "mimetype": "text/x-python",
   "name": "python",
   "nbconvert_exporter": "python",
   "pygments_lexer": "ipython3",
   "version": "3.7.0"
  }
 },
 "nbformat": 4,
 "nbformat_minor": 4
}
